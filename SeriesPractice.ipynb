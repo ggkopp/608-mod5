{
 "cells": [
  {
   "cell_type": "markdown",
   "id": "8fc6ea7a-8871-4780-9088-c3176de6a152",
   "metadata": {},
   "source": [
    "# Create s Series with Default Indecies"
   ]
  },
  {
   "cell_type": "code",
   "execution_count": 5,
   "id": "e9d53d56-8399-47aa-97ec-ee8338d0db32",
   "metadata": {},
   "outputs": [],
   "source": [
    "import pandas as pd"
   ]
  },
  {
   "cell_type": "code",
   "execution_count": 6,
   "id": "9318f807-cce8-4c77-9019-7880b4ac8d4f",
   "metadata": {},
   "outputs": [],
   "source": [
    "grades = pd.Series([87, 100, 94])"
   ]
  },
  {
   "cell_type": "code",
   "execution_count": 7,
   "id": "90a38b4e-b956-4bad-8830-4d3eb1919ed2",
   "metadata": {},
   "outputs": [
    {
     "name": "stdout",
     "output_type": "stream",
     "text": [
      "87\n"
     ]
    }
   ],
   "source": [
    "print(grades[0])"
   ]
  },
  {
   "cell_type": "markdown",
   "id": "50b02225-cc09-4384-9397-ff4cd7df3bf6",
   "metadata": {},
   "source": [
    "# call in the built in series functions"
   ]
  },
  {
   "cell_type": "code",
   "execution_count": 9,
   "id": "94e59815-48e0-411d-abac-68abd791edeb",
   "metadata": {},
   "outputs": [
    {
     "name": "stdout",
     "output_type": "stream",
     "text": [
      "3\n"
     ]
    }
   ],
   "source": [
    "print(grades.count())"
   ]
  },
  {
   "cell_type": "code",
   "execution_count": 10,
   "id": "45e706f4-7c08-4437-a0d9-307a3d5d674b",
   "metadata": {},
   "outputs": [
    {
     "name": "stdout",
     "output_type": "stream",
     "text": [
      "93.66666666666667\n"
     ]
    }
   ],
   "source": [
    "print(grades.mean())"
   ]
  },
  {
   "cell_type": "code",
   "execution_count": 11,
   "id": "1a3aa469-8156-413a-9e2b-414df01d3241",
   "metadata": {},
   "outputs": [
    {
     "name": "stdout",
     "output_type": "stream",
     "text": [
      "87\n"
     ]
    }
   ],
   "source": [
    "print(grades.min())"
   ]
  },
  {
   "cell_type": "code",
   "execution_count": 12,
   "id": "48e5e75b-8e3e-449c-8544-e0684fffc706",
   "metadata": {},
   "outputs": [
    {
     "name": "stdout",
     "output_type": "stream",
     "text": [
      "100\n"
     ]
    }
   ],
   "source": [
    "print(grades.max())"
   ]
  },
  {
   "cell_type": "code",
   "execution_count": 13,
   "id": "90183601-476e-4d82-a874-c915246df512",
   "metadata": {},
   "outputs": [
    {
     "name": "stdout",
     "output_type": "stream",
     "text": [
      "6.506407098647712\n"
     ]
    }
   ],
   "source": [
    "print(grades.std())"
   ]
  },
  {
   "cell_type": "code",
   "execution_count": 14,
   "id": "f64834a0-c36e-411b-8601-c59beb93f447",
   "metadata": {},
   "outputs": [
    {
     "name": "stdout",
     "output_type": "stream",
     "text": [
      "count      3.000000\n",
      "mean      93.666667\n",
      "std        6.506407\n",
      "min       87.000000\n",
      "25%       90.500000\n",
      "50%       94.000000\n",
      "75%       97.000000\n",
      "max      100.000000\n",
      "dtype: float64\n"
     ]
    }
   ],
   "source": [
    "print(grades.describe())"
   ]
  },
  {
   "cell_type": "markdown",
   "id": "06984659-9237-47ba-9da7-fd40d3c4d644",
   "metadata": {},
   "source": [
    "# Dictionary Initializers"
   ]
  },
  {
   "cell_type": "code",
   "execution_count": 15,
   "id": "fd00f1fd-90f5-422d-bfd1-a5d7a989854a",
   "metadata": {},
   "outputs": [],
   "source": [
    "grades = pd.Series({'Wally': 87, 'Eva': 100, 'Sam': 94})"
   ]
  },
  {
   "cell_type": "code",
   "execution_count": 16,
   "id": "df3f910c-c68c-47ec-a9ae-aed01607dc09",
   "metadata": {},
   "outputs": [
    {
     "name": "stdout",
     "output_type": "stream",
     "text": [
      "Wally     87\n",
      "Eva      100\n",
      "Sam       94\n",
      "dtype: int64\n"
     ]
    }
   ],
   "source": [
    "print(grades)"
   ]
  },
  {
   "cell_type": "code",
   "execution_count": 17,
   "id": "34df4ad9-ffb5-4619-9209-d3037d0c0235",
   "metadata": {},
   "outputs": [
    {
     "name": "stdout",
     "output_type": "stream",
     "text": [
      "100\n"
     ]
    }
   ],
   "source": [
    "print(grades['Eva'])"
   ]
  },
  {
   "cell_type": "code",
   "execution_count": 18,
   "id": "599b2a5c-a35b-4104-a07c-0f496dfce0f9",
   "metadata": {},
   "outputs": [
    {
     "name": "stdout",
     "output_type": "stream",
     "text": [
      "87\n"
     ]
    }
   ],
   "source": [
    "print(grades.Wally)"
   ]
  },
  {
   "cell_type": "code",
   "execution_count": 19,
   "id": "777f83d2-2133-46d1-87d7-6fc7b66b5d50",
   "metadata": {},
   "outputs": [
    {
     "name": "stdout",
     "output_type": "stream",
     "text": [
      "[ 87 100  94]\n"
     ]
    }
   ],
   "source": [
    "print(grades.values)"
   ]
  },
  {
   "cell_type": "code",
   "execution_count": 20,
   "id": "9485a4bb-4a57-49e7-8dbd-3babc04225de",
   "metadata": {},
   "outputs": [
    {
     "name": "stdout",
     "output_type": "stream",
     "text": [
      "Garrett Kopp\n"
     ]
    }
   ],
   "source": [
    "print('Garrett Kopp')"
   ]
  },
  {
   "cell_type": "code",
   "execution_count": null,
   "id": "f88809cd-8bd0-4cae-a1a7-aee00c42f9cd",
   "metadata": {},
   "outputs": [],
   "source": []
  }
 ],
 "metadata": {
  "kernelspec": {
   "display_name": "Python 3 (ipykernel)",
   "language": "python",
   "name": "python3"
  },
  "language_info": {
   "codemirror_mode": {
    "name": "ipython",
    "version": 3
   },
   "file_extension": ".py",
   "mimetype": "text/x-python",
   "name": "python",
   "nbconvert_exporter": "python",
   "pygments_lexer": "ipython3",
   "version": "3.9.12"
  }
 },
 "nbformat": 4,
 "nbformat_minor": 5
}
