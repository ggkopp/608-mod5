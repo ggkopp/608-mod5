{
 "cells": [
  {
   "cell_type": "markdown",
   "id": "b65e36a0-88e8-46ef-955f-ab8d414c41e1",
   "metadata": {},
   "source": [
    "# Creating arrays from Existing Data - 7.1 - 7.2"
   ]
  },
  {
   "cell_type": "code",
   "execution_count": 21,
   "id": "563eff5d-3031-463d-9a3e-c2f187fa4823",
   "metadata": {},
   "outputs": [],
   "source": [
    "import numpy as np"
   ]
  },
  {
   "cell_type": "code",
   "execution_count": 22,
   "id": "2b8faccf-dc8a-44a3-8403-e8e7c0939dbe",
   "metadata": {},
   "outputs": [],
   "source": [
    "numbers = np.array([2, 3, 5, 7, 11])"
   ]
  },
  {
   "cell_type": "code",
   "execution_count": 23,
   "id": "1c553fa7-713a-4aad-bce5-abe562f9224d",
   "metadata": {},
   "outputs": [
    {
     "name": "stdout",
     "output_type": "stream",
     "text": [
      "<class 'numpy.ndarray'>\n"
     ]
    }
   ],
   "source": [
    "print(type(numbers))"
   ]
  },
  {
   "cell_type": "code",
   "execution_count": 24,
   "id": "295ffc73-ac60-48ed-af8a-582344ed969d",
   "metadata": {},
   "outputs": [
    {
     "name": "stdout",
     "output_type": "stream",
     "text": [
      "[ 2  3  5  7 11]\n"
     ]
    }
   ],
   "source": [
    "print(numbers)"
   ]
  },
  {
   "cell_type": "code",
   "execution_count": 25,
   "id": "37616077-0c4e-4bab-98ee-81a933840ac9",
   "metadata": {},
   "outputs": [
    {
     "name": "stdout",
     "output_type": "stream",
     "text": [
      "[[1 2 3]\n",
      " [4 5 6]]\n"
     ]
    }
   ],
   "source": [
    "print(np.array([[1, 2, 3], [4, 5, 6]]))"
   ]
  },
  {
   "cell_type": "markdown",
   "id": "9cd4688b-d531-4292-a2f2-d42e0c006c64",
   "metadata": {},
   "source": [
    "# Array Attributes"
   ]
  },
  {
   "cell_type": "code",
   "execution_count": 32,
   "id": "01a27db2-49ac-4315-91b5-ac2f81c1f7e2",
   "metadata": {},
   "outputs": [],
   "source": [
    "import numpy as np"
   ]
  },
  {
   "cell_type": "code",
   "execution_count": 33,
   "id": "8d7405b0-8fe2-4ccd-a020-af63f2d6334c",
   "metadata": {},
   "outputs": [],
   "source": [
    "integers = np.array([[1, 2, 3], [4, 5, 6]])"
   ]
  },
  {
   "cell_type": "code",
   "execution_count": 34,
   "id": "01a4ebcb-132e-41d1-9ef4-325fc7b4197f",
   "metadata": {},
   "outputs": [
    {
     "name": "stdout",
     "output_type": "stream",
     "text": [
      "[[1 2 3]\n",
      " [4 5 6]]\n"
     ]
    }
   ],
   "source": [
    "print(integers)"
   ]
  },
  {
   "cell_type": "code",
   "execution_count": 35,
   "id": "9229e250-96b0-4177-9e58-c8cf36fece12",
   "metadata": {},
   "outputs": [],
   "source": [
    "floats = np.array([0.0, 0.1, 0.2, 0.3, 0.4])"
   ]
  },
  {
   "cell_type": "code",
   "execution_count": 38,
   "id": "5252ce8c-4bbf-482f-bb15-5e7e76712608",
   "metadata": {},
   "outputs": [
    {
     "name": "stdout",
     "output_type": "stream",
     "text": [
      "[0.  0.1 0.2 0.3 0.4]\n"
     ]
    }
   ],
   "source": [
    "print(floats)"
   ]
  },
  {
   "cell_type": "markdown",
   "id": "c3b972f0-3202-43e8-853d-d1d2287e26e5",
   "metadata": {},
   "source": [
    "# determining an array's element type"
   ]
  },
  {
   "cell_type": "code",
   "execution_count": 37,
   "id": "cd893346-31f1-4a7b-b110-3c85b83ccf04",
   "metadata": {},
   "outputs": [
    {
     "name": "stdout",
     "output_type": "stream",
     "text": [
      "int32\n"
     ]
    }
   ],
   "source": [
    "print(integers.dtype)"
   ]
  },
  {
   "cell_type": "code",
   "execution_count": 39,
   "id": "f7b57ada-b69b-4344-8f2d-06c4cf73c00a",
   "metadata": {},
   "outputs": [
    {
     "name": "stdout",
     "output_type": "stream",
     "text": [
      "float64\n"
     ]
    }
   ],
   "source": [
    "print(floats.dtype)"
   ]
  },
  {
   "cell_type": "markdown",
   "id": "68a4ffa5-734e-44dd-93ba-99a546ea2f9e",
   "metadata": {},
   "source": [
    "# determining an arrays dimansions"
   ]
  },
  {
   "cell_type": "code",
   "execution_count": 40,
   "id": "736d123c-148a-4a30-aa50-5d9848f07d8f",
   "metadata": {},
   "outputs": [
    {
     "name": "stdout",
     "output_type": "stream",
     "text": [
      "2\n"
     ]
    }
   ],
   "source": [
    "print(integers.ndim)"
   ]
  },
  {
   "cell_type": "code",
   "execution_count": 41,
   "id": "e9893609-13a2-49a6-94d9-2cecb7262816",
   "metadata": {},
   "outputs": [
    {
     "name": "stdout",
     "output_type": "stream",
     "text": [
      "1\n"
     ]
    }
   ],
   "source": [
    "print(floats.ndim)"
   ]
  },
  {
   "cell_type": "code",
   "execution_count": 42,
   "id": "f4a5db5f-2515-481e-bc75-a2dd043275f7",
   "metadata": {},
   "outputs": [
    {
     "name": "stdout",
     "output_type": "stream",
     "text": [
      "(2, 3)\n"
     ]
    }
   ],
   "source": [
    "print(integers.shape)"
   ]
  },
  {
   "cell_type": "code",
   "execution_count": 44,
   "id": "8a349580-22f3-4711-a57b-2a832e62c114",
   "metadata": {},
   "outputs": [
    {
     "name": "stdout",
     "output_type": "stream",
     "text": [
      "(5,)\n"
     ]
    }
   ],
   "source": [
    "print(floats.shape)"
   ]
  },
  {
   "cell_type": "code",
   "execution_count": 45,
   "id": "119b351a-b762-41bd-9560-a3d13ed3a01f",
   "metadata": {},
   "outputs": [
    {
     "name": "stdout",
     "output_type": "stream",
     "text": [
      "6\n"
     ]
    }
   ],
   "source": [
    "print(integers.size)"
   ]
  },
  {
   "cell_type": "code",
   "execution_count": 46,
   "id": "2ac19e20-829d-419c-8992-63394b8a1c70",
   "metadata": {},
   "outputs": [
    {
     "name": "stdout",
     "output_type": "stream",
     "text": [
      "4\n"
     ]
    }
   ],
   "source": [
    "print(integers.itemsize)"
   ]
  },
  {
   "cell_type": "code",
   "execution_count": 47,
   "id": "889b0f56-393d-46be-b007-ebd70f352da4",
   "metadata": {},
   "outputs": [
    {
     "name": "stdout",
     "output_type": "stream",
     "text": [
      "5\n"
     ]
    }
   ],
   "source": [
    "print(floats.size)"
   ]
  },
  {
   "cell_type": "code",
   "execution_count": 49,
   "id": "0b870edc-1374-4f8d-8a68-250f2ec3e481",
   "metadata": {},
   "outputs": [
    {
     "name": "stdout",
     "output_type": "stream",
     "text": [
      "8\n"
     ]
    }
   ],
   "source": [
    "print(floats.itemsize)"
   ]
  },
  {
   "cell_type": "markdown",
   "id": "06c1a4aa-6539-450c-952a-3a209244fb50",
   "metadata": {},
   "source": [
    "# iterating through a multidimensional arrays elements"
   ]
  },
  {
   "cell_type": "code",
   "execution_count": 52,
   "id": "c6071ff5-964a-4496-8432-94642d4fdb08",
   "metadata": {},
   "outputs": [
    {
     "name": "stdout",
     "output_type": "stream",
     "text": [
      "1 2 3 \n",
      "4 5 6 \n"
     ]
    }
   ],
   "source": [
    "for row in integers:\n",
    "    for column in row:\n",
    "        print(column, end=' ')\n",
    "    print()"
   ]
  },
  {
   "cell_type": "code",
   "execution_count": 53,
   "id": "9e5a6459-6f10-4117-b7f1-48c3e3947855",
   "metadata": {},
   "outputs": [
    {
     "name": "stdout",
     "output_type": "stream",
     "text": [
      "1 2 3 4 5 6 "
     ]
    }
   ],
   "source": [
    "for i in integers.flat:\n",
    "    print(i, end=' ')"
   ]
  },
  {
   "cell_type": "markdown",
   "id": "0259cb5c-139e-4f74-af2f-95e00d9e5dce",
   "metadata": {},
   "source": [
    "# filling in arrays with specific values - 7.4"
   ]
  },
  {
   "cell_type": "code",
   "execution_count": 54,
   "id": "dd305da2-284b-48da-b5b5-c1fec07c36f6",
   "metadata": {},
   "outputs": [],
   "source": [
    "import numpy as np"
   ]
  },
  {
   "cell_type": "code",
   "execution_count": 55,
   "id": "9aa5e59c-7438-4dd4-86f8-349c46e3fd57",
   "metadata": {},
   "outputs": [
    {
     "name": "stdout",
     "output_type": "stream",
     "text": [
      "[0. 0. 0. 0. 0.]\n"
     ]
    }
   ],
   "source": [
    "print(np.zeros(5))"
   ]
  },
  {
   "cell_type": "code",
   "execution_count": 56,
   "id": "4ff379a5-0e3e-4555-9b0d-8bf5198c45df",
   "metadata": {},
   "outputs": [
    {
     "name": "stdout",
     "output_type": "stream",
     "text": [
      "[[1 1 1 1]\n",
      " [1 1 1 1]]\n"
     ]
    }
   ],
   "source": [
    "print(np.ones((2, 4), dtype=int))"
   ]
  },
  {
   "cell_type": "code",
   "execution_count": 57,
   "id": "3a4ccb08-2074-4066-9ec8-e140e80c8892",
   "metadata": {},
   "outputs": [
    {
     "name": "stdout",
     "output_type": "stream",
     "text": [
      "[[13 13 13 13 13]\n",
      " [13 13 13 13 13]\n",
      " [13 13 13 13 13]]\n"
     ]
    }
   ],
   "source": [
    "print(np.full((3, 5), 13))"
   ]
  },
  {
   "cell_type": "markdown",
   "id": "6ad6ad8c-75fd-46d5-b1e1-72f23e839db7",
   "metadata": {},
   "source": [
    "# 7.5 Creating arrays from Ranges"
   ]
  },
  {
   "cell_type": "code",
   "execution_count": 58,
   "id": "d9c41148-e4dc-4c39-b14d-1f1524398c43",
   "metadata": {},
   "outputs": [],
   "source": [
    "import numpy as np"
   ]
  },
  {
   "cell_type": "code",
   "execution_count": 61,
   "id": "c6f935c8-2d07-477c-abf2-62bf8d342d14",
   "metadata": {},
   "outputs": [
    {
     "name": "stdout",
     "output_type": "stream",
     "text": [
      "[0 1 2 3 4]\n"
     ]
    }
   ],
   "source": [
    "print(np.arange(5))"
   ]
  },
  {
   "cell_type": "code",
   "execution_count": 62,
   "id": "dc18b43d-1e0a-4d71-98bc-99fd30fdba9b",
   "metadata": {},
   "outputs": [
    {
     "name": "stdout",
     "output_type": "stream",
     "text": [
      "[5 6 7 8 9]\n"
     ]
    }
   ],
   "source": [
    "print(np.arange(5, 10))"
   ]
  },
  {
   "cell_type": "code",
   "execution_count": 63,
   "id": "4bb3acd5-531e-41f7-840f-1707a4941ff1",
   "metadata": {},
   "outputs": [
    {
     "name": "stdout",
     "output_type": "stream",
     "text": [
      "[10  8  6  4  2]\n"
     ]
    }
   ],
   "source": [
    "print(np.arange(10, 1, -2))"
   ]
  },
  {
   "cell_type": "markdown",
   "id": "f8754fc2-e709-41fb-9967-13d479bde5b0",
   "metadata": {},
   "source": [
    "# Creating floating point randes with linespace"
   ]
  },
  {
   "cell_type": "code",
   "execution_count": 66,
   "id": "cc0eed9a-e91f-4889-93f9-c27a497b453c",
   "metadata": {},
   "outputs": [
    {
     "name": "stdout",
     "output_type": "stream",
     "text": [
      "[0.   0.25 0.5  0.75 1.  ]\n"
     ]
    }
   ],
   "source": [
    "print(np.linspace(0.0, 1.0, num=5))"
   ]
  },
  {
   "cell_type": "markdown",
   "id": "87b4ca1b-be6e-43a9-9854-33c329f0f8c1",
   "metadata": {},
   "source": [
    "# reshaping an array"
   ]
  },
  {
   "cell_type": "code",
   "execution_count": 68,
   "id": "546dd85a-99ee-4a22-9d5b-a9c667922957",
   "metadata": {},
   "outputs": [
    {
     "name": "stdout",
     "output_type": "stream",
     "text": [
      "[[ 1  2  3  4  5]\n",
      " [ 6  7  8  9 10]\n",
      " [11 12 13 14 15]\n",
      " [16 17 18 19 20]]\n"
     ]
    }
   ],
   "source": [
    "print(np.arange(1, 21).reshape(4, 5))"
   ]
  },
  {
   "cell_type": "markdown",
   "id": "a78b794f-d42a-4a0c-9153-f515648d63d0",
   "metadata": {},
   "source": [
    "# 7.6 List vs. array Performance: Introducing %timeit"
   ]
  },
  {
   "cell_type": "code",
   "execution_count": 69,
   "id": "f5afbb8b-e162-4007-9e26-8298471524f9",
   "metadata": {},
   "outputs": [],
   "source": [
    "import random"
   ]
  },
  {
   "cell_type": "code",
   "execution_count": 74,
   "id": "f32df3b2-26a2-45dc-8ba6-7c93f8a447b8",
   "metadata": {},
   "outputs": [
    {
     "name": "stdout",
     "output_type": "stream",
     "text": [
      "4.53 s ± 208 ms per loop (mean ± std. dev. of 7 runs, 1 loop each)\n"
     ]
    }
   ],
   "source": [
    "%timeit rolls_list = \\\n",
    "   [random.randrange(1, 7) for i in range(0, 6_000_000)]"
   ]
  },
  {
   "cell_type": "code",
   "execution_count": 75,
   "id": "76189892-292d-4c78-a5bd-27fe56e624b6",
   "metadata": {},
   "outputs": [],
   "source": [
    "import numpy as np"
   ]
  },
  {
   "cell_type": "code",
   "execution_count": 76,
   "id": "e4dbfade-e2ab-4516-885c-7b2c9a7a40b3",
   "metadata": {},
   "outputs": [
    {
     "name": "stdout",
     "output_type": "stream",
     "text": [
      "53.6 ms ± 1.06 ms per loop (mean ± std. dev. of 7 runs, 10 loops each)\n"
     ]
    }
   ],
   "source": [
    "%timeit rolls_array = np.random.randint(1, 7, 6_000_000)"
   ]
  },
  {
   "cell_type": "code",
   "execution_count": 77,
   "id": "c4ebad13-2021-4b53-afbc-b10cde983954",
   "metadata": {},
   "outputs": [
    {
     "name": "stdout",
     "output_type": "stream",
     "text": [
      "657 ms ± 87.6 ms per loop (mean ± std. dev. of 7 runs, 1 loop each)\n"
     ]
    }
   ],
   "source": [
    "%timeit rolls_array = np.random.randint(1, 7, 60_000_000)"
   ]
  },
  {
   "cell_type": "code",
   "execution_count": 78,
   "id": "e5515f0f-d5a2-4553-a625-65dc452f7e69",
   "metadata": {},
   "outputs": [
    {
     "name": "stdout",
     "output_type": "stream",
     "text": [
      "7.09 s ± 311 ms per loop (mean ± std. dev. of 7 runs, 1 loop each)\n"
     ]
    }
   ],
   "source": [
    "%timeit rolls_array = np.random.randint(1, 7, 600_000_000)"
   ]
  },
  {
   "cell_type": "code",
   "execution_count": 79,
   "id": "1f2c5cd7-7495-4d1a-b846-fc5af3e5ed29",
   "metadata": {},
   "outputs": [
    {
     "name": "stdout",
     "output_type": "stream",
     "text": [
      "71.7 ms ± 3.71 ms per loop (mean ± std. dev. of 2 runs, 3 loops each)\n"
     ]
    }
   ],
   "source": [
    "%timeit -n3 -r2 rolls_array = np.random.randint(1, 7, 6_000_000)"
   ]
  },
  {
   "cell_type": "markdown",
   "id": "490c1413-c6a5-470a-9e6e-afc4aeff166b",
   "metadata": {},
   "source": [
    "# 7.7 array Operators"
   ]
  },
  {
   "cell_type": "code",
   "execution_count": 80,
   "id": "7fdddf3d-90ff-433f-b919-ecbf7984562c",
   "metadata": {},
   "outputs": [],
   "source": [
    "import numpy as np"
   ]
  },
  {
   "cell_type": "code",
   "execution_count": 91,
   "id": "b6446088-105f-45d8-8133-8e26274c6022",
   "metadata": {},
   "outputs": [],
   "source": [
    "numbers = np.arange(1, 6)"
   ]
  },
  {
   "cell_type": "code",
   "execution_count": 92,
   "id": "765b842a-80ed-4d59-a56c-6eec864c1196",
   "metadata": {},
   "outputs": [
    {
     "name": "stdout",
     "output_type": "stream",
     "text": [
      "[1 2 3 4 5]\n"
     ]
    }
   ],
   "source": [
    "print(numbers)"
   ]
  },
  {
   "cell_type": "code",
   "execution_count": 93,
   "id": "de8e69b6-94d0-4278-b980-f2a812c73e5d",
   "metadata": {},
   "outputs": [
    {
     "name": "stdout",
     "output_type": "stream",
     "text": [
      "[ 2  4  6  8 10]\n"
     ]
    }
   ],
   "source": [
    "print(numbers * 2)"
   ]
  },
  {
   "cell_type": "code",
   "execution_count": 94,
   "id": "9ad0c1c5-5315-4f18-b4db-f9a4391fe011",
   "metadata": {},
   "outputs": [
    {
     "name": "stdout",
     "output_type": "stream",
     "text": [
      "[  1   8  27  64 125]\n"
     ]
    }
   ],
   "source": [
    "print(numbers ** 3)"
   ]
  },
  {
   "cell_type": "code",
   "execution_count": 95,
   "id": "680bba2a-1465-4fff-b16c-358e653f9836",
   "metadata": {},
   "outputs": [
    {
     "name": "stdout",
     "output_type": "stream",
     "text": [
      "[1 2 3 4 5]\n"
     ]
    }
   ],
   "source": [
    "print(numbers) # number is unchanged by arithmatic operators"
   ]
  },
  {
   "cell_type": "code",
   "execution_count": 96,
   "id": "b3c02f62-d4e1-4720-9f1f-2ebfacb021e9",
   "metadata": {},
   "outputs": [],
   "source": [
    "numbers += 10"
   ]
  },
  {
   "cell_type": "code",
   "execution_count": 97,
   "id": "57b6f012-c5fe-444e-8b1d-b011aa891d7c",
   "metadata": {},
   "outputs": [
    {
     "name": "stdout",
     "output_type": "stream",
     "text": [
      "[11 12 13 14 15]\n"
     ]
    }
   ],
   "source": [
    "print(numbers)"
   ]
  },
  {
   "cell_type": "markdown",
   "id": "4120d1cc-3500-4c78-b788-3fb28e17b9f1",
   "metadata": {},
   "source": [
    "# Arithmetic Operations Between Arrays"
   ]
  },
  {
   "cell_type": "code",
   "execution_count": 98,
   "id": "07ce46f1-aca6-4c2c-95df-73d863cd1f54",
   "metadata": {},
   "outputs": [],
   "source": [
    "numbers2 = np.linspace(1.1, 5.5, 5)"
   ]
  },
  {
   "cell_type": "code",
   "execution_count": 99,
   "id": "9b9dac43-bed8-457f-88a8-2386fada51d1",
   "metadata": {},
   "outputs": [
    {
     "name": "stdout",
     "output_type": "stream",
     "text": [
      "[1.1 2.2 3.3 4.4 5.5]\n"
     ]
    }
   ],
   "source": [
    "print(numbers2)"
   ]
  },
  {
   "cell_type": "code",
   "execution_count": 100,
   "id": "37cb2a52-868e-4437-84c1-26c525a3bebf",
   "metadata": {},
   "outputs": [
    {
     "name": "stdout",
     "output_type": "stream",
     "text": [
      "[12.1 26.4 42.9 61.6 82.5]\n"
     ]
    }
   ],
   "source": [
    "print(numbers * numbers2)"
   ]
  },
  {
   "cell_type": "markdown",
   "id": "6e2d13ff-15e4-46a1-9e65-457b5f405aa9",
   "metadata": {},
   "source": [
    "# # Comparing arrays"
   ]
  },
  {
   "cell_type": "code",
   "execution_count": 101,
   "id": "e613fbad-d0a9-4550-8154-6bdc695ee4d0",
   "metadata": {},
   "outputs": [
    {
     "name": "stdout",
     "output_type": "stream",
     "text": [
      "[11 12 13 14 15]\n"
     ]
    }
   ],
   "source": [
    "print(numbers)"
   ]
  },
  {
   "cell_type": "code",
   "execution_count": 102,
   "id": "aca1ad50-cc0d-4fc2-bc73-b47e54d7def7",
   "metadata": {},
   "outputs": [
    {
     "name": "stdout",
     "output_type": "stream",
     "text": [
      "[False False  True  True  True]\n"
     ]
    }
   ],
   "source": [
    "print(numbers >= 13)"
   ]
  },
  {
   "cell_type": "code",
   "execution_count": 103,
   "id": "3d03dc83-e3d8-4b69-b26c-04ea7dbb643a",
   "metadata": {},
   "outputs": [
    {
     "name": "stdout",
     "output_type": "stream",
     "text": [
      "[1.1 2.2 3.3 4.4 5.5]\n"
     ]
    }
   ],
   "source": [
    "print(numbers2)"
   ]
  },
  {
   "cell_type": "code",
   "execution_count": 104,
   "id": "fca72474-2b9a-4254-9ce2-6fa58c161237",
   "metadata": {},
   "outputs": [
    {
     "name": "stdout",
     "output_type": "stream",
     "text": [
      "[ True  True  True  True  True]\n"
     ]
    }
   ],
   "source": [
    "print(numbers2 < numbers)"
   ]
  },
  {
   "cell_type": "code",
   "execution_count": 105,
   "id": "b3baad30-a538-4ba5-8b14-4897d406b60e",
   "metadata": {},
   "outputs": [
    {
     "name": "stdout",
     "output_type": "stream",
     "text": [
      "[False False False False False]\n"
     ]
    }
   ],
   "source": [
    "print(numbers == numbers2)"
   ]
  },
  {
   "cell_type": "code",
   "execution_count": 106,
   "id": "82abf898-2bcd-4c1b-8570-70037d300713",
   "metadata": {},
   "outputs": [
    {
     "name": "stdout",
     "output_type": "stream",
     "text": [
      "[ True  True  True  True  True]\n"
     ]
    }
   ],
   "source": [
    "print(numbers == numbers)"
   ]
  },
  {
   "cell_type": "markdown",
   "id": "e5041bfa-20df-4888-a657-f2a91615af81",
   "metadata": {},
   "source": [
    "# 7.8 NumPy Calculation Methods"
   ]
  },
  {
   "cell_type": "code",
   "execution_count": 107,
   "id": "0414f7cf-94df-4d05-9e0a-1482bfd45708",
   "metadata": {},
   "outputs": [],
   "source": [
    "import numpy as np"
   ]
  },
  {
   "cell_type": "code",
   "execution_count": 108,
   "id": "ce7659b8-a125-4def-8f45-f4bcd7ced626",
   "metadata": {},
   "outputs": [],
   "source": [
    "grades = np.array([[87, 96, 70], [100, 87, 90],\n",
    "                   [94, 77, 90], [100, 81, 82]])"
   ]
  },
  {
   "cell_type": "code",
   "execution_count": 109,
   "id": "931028bc-2bf1-45f4-bfe9-dfcf0e957b30",
   "metadata": {},
   "outputs": [
    {
     "name": "stdout",
     "output_type": "stream",
     "text": [
      "[[ 87  96  70]\n",
      " [100  87  90]\n",
      " [ 94  77  90]\n",
      " [100  81  82]]\n"
     ]
    }
   ],
   "source": [
    "print(grades)"
   ]
  },
  {
   "cell_type": "code",
   "execution_count": 110,
   "id": "3ea38cb7-982a-4fab-b5cb-391d32626b69",
   "metadata": {},
   "outputs": [
    {
     "name": "stdout",
     "output_type": "stream",
     "text": [
      "1054\n"
     ]
    }
   ],
   "source": [
    "print(grades.sum())"
   ]
  },
  {
   "cell_type": "code",
   "execution_count": 111,
   "id": "96d91622-cb0d-4076-8f70-e4167098d599",
   "metadata": {},
   "outputs": [
    {
     "name": "stdout",
     "output_type": "stream",
     "text": [
      "70\n"
     ]
    }
   ],
   "source": [
    "print(grades.min())"
   ]
  },
  {
   "cell_type": "code",
   "execution_count": 112,
   "id": "a13a6d22-9ac5-4431-aec8-cf06da6f586c",
   "metadata": {},
   "outputs": [
    {
     "name": "stdout",
     "output_type": "stream",
     "text": [
      "100\n"
     ]
    }
   ],
   "source": [
    "print(grades.max())"
   ]
  },
  {
   "cell_type": "code",
   "execution_count": 113,
   "id": "a9577a41-21c3-4dff-9aed-d7030c8ad99b",
   "metadata": {},
   "outputs": [
    {
     "name": "stdout",
     "output_type": "stream",
     "text": [
      "87.83333333333333\n"
     ]
    }
   ],
   "source": [
    "print(grades.mean())"
   ]
  },
  {
   "cell_type": "code",
   "execution_count": 114,
   "id": "a3be8457-eeed-465b-bbe2-ace1f5a7713d",
   "metadata": {},
   "outputs": [
    {
     "name": "stdout",
     "output_type": "stream",
     "text": [
      "8.792357792739987\n"
     ]
    }
   ],
   "source": [
    "print(grades.std())"
   ]
  },
  {
   "cell_type": "code",
   "execution_count": 115,
   "id": "29443994-777c-462a-9c7c-c715b08540f1",
   "metadata": {},
   "outputs": [
    {
     "name": "stdout",
     "output_type": "stream",
     "text": [
      "77.30555555555556\n"
     ]
    }
   ],
   "source": [
    "print(grades.var())"
   ]
  },
  {
   "cell_type": "markdown",
   "id": "66ce39ae-742e-46fd-bf86-a4e782a89c41",
   "metadata": {},
   "source": [
    "# # Calculations by Row or Column"
   ]
  },
  {
   "cell_type": "code",
   "execution_count": 116,
   "id": "94b5cb3a-74e0-48ae-8cab-5bb00ff9630f",
   "metadata": {},
   "outputs": [
    {
     "name": "stdout",
     "output_type": "stream",
     "text": [
      "[95.25 85.25 83.  ]\n"
     ]
    }
   ],
   "source": [
    "print(grades.mean(axis=0))"
   ]
  },
  {
   "cell_type": "code",
   "execution_count": 117,
   "id": "780431b6-5bd1-449d-9da8-9a4b7e5de86c",
   "metadata": {},
   "outputs": [
    {
     "name": "stdout",
     "output_type": "stream",
     "text": [
      "[84.33333333 92.33333333 87.         87.66666667]\n"
     ]
    }
   ],
   "source": [
    "print(grades.mean(axis=1))"
   ]
  },
  {
   "cell_type": "markdown",
   "id": "61921697-eed5-4ae7-b859-7d7794901040",
   "metadata": {},
   "source": [
    "# 7.9 Universal Functions"
   ]
  },
  {
   "cell_type": "code",
   "execution_count": 118,
   "id": "376e2adc-6203-42ee-8ec6-c5ef8bc797b5",
   "metadata": {},
   "outputs": [],
   "source": [
    "import numpy as np"
   ]
  },
  {
   "cell_type": "code",
   "execution_count": 119,
   "id": "1943370a-48a5-44f2-be77-2f81ad72fff6",
   "metadata": {},
   "outputs": [],
   "source": [
    "numbers = np.array([1, 4, 9, 16, 25, 36])"
   ]
  },
  {
   "cell_type": "code",
   "execution_count": 120,
   "id": "86dcef0b-efa0-4f04-8d9c-2e5448c55668",
   "metadata": {},
   "outputs": [
    {
     "name": "stdout",
     "output_type": "stream",
     "text": [
      "[1. 2. 3. 4. 5. 6.]\n"
     ]
    }
   ],
   "source": [
    "print(np.sqrt(numbers))"
   ]
  },
  {
   "cell_type": "code",
   "execution_count": 121,
   "id": "e70453f0-fc3d-4fe2-aff3-58ef9e77f26d",
   "metadata": {},
   "outputs": [],
   "source": [
    "numbers2 = np.arange(1, 7) * 10"
   ]
  },
  {
   "cell_type": "code",
   "execution_count": 122,
   "id": "f5b18615-1cfa-4ab7-93ae-5e742c0fe254",
   "metadata": {},
   "outputs": [
    {
     "name": "stdout",
     "output_type": "stream",
     "text": [
      "[10 20 30 40 50 60]\n"
     ]
    }
   ],
   "source": [
    "print(numbers2)"
   ]
  },
  {
   "cell_type": "code",
   "execution_count": 123,
   "id": "3ebaf8b3-76c5-449c-8142-a6e7480b9460",
   "metadata": {},
   "outputs": [
    {
     "name": "stdout",
     "output_type": "stream",
     "text": [
      "[11 24 39 56 75 96]\n"
     ]
    }
   ],
   "source": [
    "print(np.add(numbers, numbers2))"
   ]
  },
  {
   "cell_type": "markdown",
   "id": "c77aa41e-a1b6-494b-ab0a-102fc85c1c50",
   "metadata": {},
   "source": [
    "# Broadcasting with Universal Functions"
   ]
  },
  {
   "cell_type": "code",
   "execution_count": 124,
   "id": "cd43c001-670e-45fb-8753-6646b3c8378f",
   "metadata": {},
   "outputs": [
    {
     "name": "stdout",
     "output_type": "stream",
     "text": [
      "[ 50 100 150 200 250 300]\n"
     ]
    }
   ],
   "source": [
    "print(np.multiply(numbers2, 5))"
   ]
  },
  {
   "cell_type": "code",
   "execution_count": 125,
   "id": "caca5a94-fb47-4a7e-a08c-1a256c5b9f64",
   "metadata": {},
   "outputs": [],
   "source": [
    "numbers3 = numbers2.reshape(2, 3)"
   ]
  },
  {
   "cell_type": "code",
   "execution_count": 126,
   "id": "7f1e1a7b-7d17-42ec-83d3-3b21fbbcf9be",
   "metadata": {},
   "outputs": [
    {
     "name": "stdout",
     "output_type": "stream",
     "text": [
      "[[10 20 30]\n",
      " [40 50 60]]\n"
     ]
    }
   ],
   "source": [
    "print(numbers3)"
   ]
  },
  {
   "cell_type": "code",
   "execution_count": 127,
   "id": "45738589-7856-41fb-a2ac-65dd2c115c79",
   "metadata": {},
   "outputs": [],
   "source": [
    "numbers4 = np.array([2, 4, 6])"
   ]
  },
  {
   "cell_type": "code",
   "execution_count": 128,
   "id": "bf6574f4-3801-4eea-a0cc-3e4d6bf58d95",
   "metadata": {},
   "outputs": [
    {
     "name": "stdout",
     "output_type": "stream",
     "text": [
      "[[ 20  80 180]\n",
      " [ 80 200 360]]\n"
     ]
    }
   ],
   "source": [
    "print(np.multiply(numbers3, numbers4))"
   ]
  },
  {
   "cell_type": "markdown",
   "id": "7e9d20f8-76dd-42db-894f-4828b834fdfd",
   "metadata": {},
   "source": [
    "# 7.10 Indexing and Slicing"
   ]
  },
  {
   "cell_type": "code",
   "execution_count": 129,
   "id": "bb7d93a2-d6c2-477d-a8db-3135430fa09a",
   "metadata": {},
   "outputs": [],
   "source": [
    "import numpy as np"
   ]
  },
  {
   "cell_type": "code",
   "execution_count": 130,
   "id": "c14cd2ec-c0eb-462b-b661-661e35f5e338",
   "metadata": {},
   "outputs": [],
   "source": [
    "grades = np.array([[87, 96, 70], [100, 87, 90],\n",
    "                   [94, 77, 90], [100, 81, 82]])"
   ]
  },
  {
   "cell_type": "code",
   "execution_count": 131,
   "id": "e87a4a39-e5d5-4205-ab28-1794c8a988a7",
   "metadata": {},
   "outputs": [
    {
     "name": "stdout",
     "output_type": "stream",
     "text": [
      "[[ 87  96  70]\n",
      " [100  87  90]\n",
      " [ 94  77  90]\n",
      " [100  81  82]]\n"
     ]
    }
   ],
   "source": [
    "print(grades)"
   ]
  },
  {
   "cell_type": "code",
   "execution_count": 132,
   "id": "c65afc89-c020-4d19-a2f2-f8a25966af25",
   "metadata": {},
   "outputs": [
    {
     "name": "stdout",
     "output_type": "stream",
     "text": [
      "96\n"
     ]
    }
   ],
   "source": [
    "print(grades[0, 1])"
   ]
  },
  {
   "cell_type": "markdown",
   "id": "dbba9c76-3f91-4cab-b281-d52a959c0bf4",
   "metadata": {},
   "source": [
    "# Selecting a Subset of a Two-Dimensional array’s Rows"
   ]
  },
  {
   "cell_type": "code",
   "execution_count": 133,
   "id": "c07edce2-ee87-45a3-b9fc-8bf916f46033",
   "metadata": {},
   "outputs": [
    {
     "name": "stdout",
     "output_type": "stream",
     "text": [
      "[100  87  90]\n"
     ]
    }
   ],
   "source": [
    "print(grades[1])"
   ]
  },
  {
   "cell_type": "code",
   "execution_count": 134,
   "id": "4d36918d-e51b-4af1-b2b8-f69ec4974413",
   "metadata": {},
   "outputs": [
    {
     "name": "stdout",
     "output_type": "stream",
     "text": [
      "[[ 87  96  70]\n",
      " [100  87  90]]\n"
     ]
    }
   ],
   "source": [
    "print(grades[0:2])"
   ]
  },
  {
   "cell_type": "code",
   "execution_count": 135,
   "id": "c8f25d8c-8ab0-4099-95b9-90a65e10ecb2",
   "metadata": {},
   "outputs": [
    {
     "name": "stdout",
     "output_type": "stream",
     "text": [
      "[[100  87  90]\n",
      " [100  81  82]]\n"
     ]
    }
   ],
   "source": [
    "print(grades[[1, 3]])"
   ]
  },
  {
   "cell_type": "markdown",
   "id": "3c6ac122-69bd-413b-90c4-b28462c775ff",
   "metadata": {},
   "source": [
    "# Selecting a Subset of a Two-Dimensional array’s Columns"
   ]
  },
  {
   "cell_type": "code",
   "execution_count": 136,
   "id": "e8d34df3-46fb-4890-8265-9395ddc7197b",
   "metadata": {},
   "outputs": [
    {
     "name": "stdout",
     "output_type": "stream",
     "text": [
      "[ 87 100  94 100]\n"
     ]
    }
   ],
   "source": [
    "print(grades[:, 0])"
   ]
  },
  {
   "cell_type": "code",
   "execution_count": 137,
   "id": "9caf0733-8da7-4457-89c3-89afa422dd49",
   "metadata": {},
   "outputs": [
    {
     "name": "stdout",
     "output_type": "stream",
     "text": [
      "[[96 70]\n",
      " [87 90]\n",
      " [77 90]\n",
      " [81 82]]\n"
     ]
    }
   ],
   "source": [
    "print(grades[:, 1:3])"
   ]
  },
  {
   "cell_type": "code",
   "execution_count": 138,
   "id": "3f660f5f-5140-4b74-bd46-8952e1f88a05",
   "metadata": {},
   "outputs": [
    {
     "name": "stdout",
     "output_type": "stream",
     "text": [
      "[[ 87  70]\n",
      " [100  90]\n",
      " [ 94  90]\n",
      " [100  82]]\n"
     ]
    }
   ],
   "source": [
    "print(grades[:, [0, 2]])"
   ]
  },
  {
   "cell_type": "markdown",
   "id": "00045d54-8b40-429d-97cf-82bf7bd85a61",
   "metadata": {},
   "source": [
    "# 7.11 Views: Shallow Copies"
   ]
  },
  {
   "cell_type": "code",
   "execution_count": 160,
   "id": "82e8f63b-224d-4598-b83f-c77729cd873b",
   "metadata": {},
   "outputs": [],
   "source": [
    "import numpy as np"
   ]
  },
  {
   "cell_type": "code",
   "execution_count": 161,
   "id": "b46d44a5-fd52-4843-b09f-9cc6d379c890",
   "metadata": {},
   "outputs": [],
   "source": [
    "numbers = np.arange(1, 6)"
   ]
  },
  {
   "cell_type": "code",
   "execution_count": 162,
   "id": "3a5feaf0-83e5-4556-bb8c-0232880311ba",
   "metadata": {},
   "outputs": [
    {
     "name": "stdout",
     "output_type": "stream",
     "text": [
      "[1 2 3 4 5]\n"
     ]
    }
   ],
   "source": [
    "print(numbers)"
   ]
  },
  {
   "cell_type": "code",
   "execution_count": 163,
   "id": "107045ae-79c6-48ad-bc23-3531305f23bb",
   "metadata": {},
   "outputs": [],
   "source": [
    "numbers2 = numbers.view()"
   ]
  },
  {
   "cell_type": "code",
   "execution_count": 164,
   "id": "6880b50f-336e-4018-b464-9bdf0b73a9ef",
   "metadata": {},
   "outputs": [
    {
     "name": "stdout",
     "output_type": "stream",
     "text": [
      "[1 2 3 4 5]\n"
     ]
    }
   ],
   "source": [
    "print(numbers2)"
   ]
  },
  {
   "cell_type": "code",
   "execution_count": 165,
   "id": "55b5f170-e257-4c11-a49d-6355f9f1f40f",
   "metadata": {},
   "outputs": [
    {
     "name": "stdout",
     "output_type": "stream",
     "text": [
      "1690759499280\n"
     ]
    }
   ],
   "source": [
    "print(id(numbers))"
   ]
  },
  {
   "cell_type": "code",
   "execution_count": 166,
   "id": "08330008-f5a5-40c5-9782-002e9092524e",
   "metadata": {},
   "outputs": [
    {
     "name": "stdout",
     "output_type": "stream",
     "text": [
      "1690758682064\n"
     ]
    }
   ],
   "source": [
    "print(id(numbers2))"
   ]
  },
  {
   "cell_type": "code",
   "execution_count": 147,
   "id": "6b905508-361a-45e6-b2a1-e64f9d1a2c62",
   "metadata": {},
   "outputs": [],
   "source": [
    "numbers[1] *= 10"
   ]
  },
  {
   "cell_type": "code",
   "execution_count": 148,
   "id": "65957ab3-467a-4b93-b14e-1dd7790ca6ac",
   "metadata": {},
   "outputs": [
    {
     "name": "stdout",
     "output_type": "stream",
     "text": [
      "[ 1 20  3  4  5]\n"
     ]
    }
   ],
   "source": [
    "print(numbers2)"
   ]
  },
  {
   "cell_type": "code",
   "execution_count": 149,
   "id": "4cf40bfa-d7d3-43d3-bea5-68b6869d0f85",
   "metadata": {},
   "outputs": [
    {
     "name": "stdout",
     "output_type": "stream",
     "text": [
      "[ 1 20  3  4  5]\n"
     ]
    }
   ],
   "source": [
    "print(numbers)"
   ]
  },
  {
   "cell_type": "code",
   "execution_count": 150,
   "id": "d4864447-6a22-44b4-9d81-dee2afd13d2d",
   "metadata": {},
   "outputs": [],
   "source": [
    "numbers2[1] /= 10"
   ]
  },
  {
   "cell_type": "code",
   "execution_count": 151,
   "id": "c4a09d69-c894-4942-bf0a-ec2106501dd3",
   "metadata": {},
   "outputs": [
    {
     "name": "stdout",
     "output_type": "stream",
     "text": [
      "[1 2 3 4 5]\n"
     ]
    }
   ],
   "source": [
    "print(numbers2)"
   ]
  },
  {
   "cell_type": "code",
   "execution_count": 152,
   "id": "bf4653ac-484c-4286-b7f3-86e0ca524773",
   "metadata": {},
   "outputs": [
    {
     "name": "stdout",
     "output_type": "stream",
     "text": [
      "[1 2 3 4 5]\n"
     ]
    }
   ],
   "source": [
    "print(numbers2)"
   ]
  },
  {
   "cell_type": "markdown",
   "id": "3b681489-114c-49cf-a410-18917618d4df",
   "metadata": {},
   "source": [
    "# Slice Views"
   ]
  },
  {
   "cell_type": "code",
   "execution_count": 167,
   "id": "cfa8d4e1-872d-44c8-86c6-d332903d8819",
   "metadata": {},
   "outputs": [],
   "source": [
    "numbers2 = numbers[0:3]"
   ]
  },
  {
   "cell_type": "code",
   "execution_count": 168,
   "id": "06bc15ac-dc51-40b0-a80e-d5c9c6b2b7d0",
   "metadata": {},
   "outputs": [
    {
     "name": "stdout",
     "output_type": "stream",
     "text": [
      "[1 2 3]\n"
     ]
    }
   ],
   "source": [
    "print(numbers2)"
   ]
  },
  {
   "cell_type": "code",
   "execution_count": 169,
   "id": "bb62d648-1165-4bb5-9797-fd0da1026579",
   "metadata": {},
   "outputs": [
    {
     "name": "stdout",
     "output_type": "stream",
     "text": [
      "1690759499280\n"
     ]
    }
   ],
   "source": [
    "print(id(numbers))"
   ]
  },
  {
   "cell_type": "code",
   "execution_count": 170,
   "id": "fdfd078d-fa15-4148-b988-de9f980eda86",
   "metadata": {},
   "outputs": [
    {
     "name": "stdout",
     "output_type": "stream",
     "text": [
      "1690736906384\n"
     ]
    }
   ],
   "source": [
    "print(id(numbers2))"
   ]
  },
  {
   "cell_type": "code",
   "execution_count": 173,
   "id": "c07fa24a-872a-47cd-b144-29e03c6cd284",
   "metadata": {},
   "outputs": [],
   "source": [
    "# print(numbers2[3]) index error"
   ]
  },
  {
   "cell_type": "code",
   "execution_count": 177,
   "id": "028410db-b7a7-4241-b905-cc1f47d75751",
   "metadata": {},
   "outputs": [],
   "source": [
    "numbers[1] *= 10"
   ]
  },
  {
   "cell_type": "code",
   "execution_count": 178,
   "id": "076540e9-3e6a-4d61-a1f3-d91c894f9e4b",
   "metadata": {},
   "outputs": [
    {
     "name": "stdout",
     "output_type": "stream",
     "text": [
      "[1 0 3 4 5]\n"
     ]
    }
   ],
   "source": [
    "print(numbers)"
   ]
  },
  {
   "cell_type": "code",
   "execution_count": 179,
   "id": "ad8fb0a3-8bab-414d-bef4-6d887fbd2cef",
   "metadata": {},
   "outputs": [
    {
     "name": "stdout",
     "output_type": "stream",
     "text": [
      "[1 0 3]\n"
     ]
    }
   ],
   "source": [
    "print(numbers2)"
   ]
  },
  {
   "cell_type": "markdown",
   "id": "69cd5b50-2c5c-47f3-aa85-8500a3ad1dd3",
   "metadata": {},
   "source": [
    "# 7.12 Deep Copies"
   ]
  },
  {
   "cell_type": "code",
   "execution_count": 180,
   "id": "009fc270-0fcd-4110-8dd7-4273939e0b24",
   "metadata": {},
   "outputs": [],
   "source": [
    "import numpy as np"
   ]
  },
  {
   "cell_type": "code",
   "execution_count": 181,
   "id": "b52e230d-0770-476b-a342-c2dbe0cd1dfb",
   "metadata": {},
   "outputs": [],
   "source": [
    "numbers = np.arange(1, 6)"
   ]
  },
  {
   "cell_type": "code",
   "execution_count": 182,
   "id": "4a9c3c8f-aca5-48b8-8518-8f1c426cfd55",
   "metadata": {},
   "outputs": [
    {
     "name": "stdout",
     "output_type": "stream",
     "text": [
      "[1 2 3 4 5]\n"
     ]
    }
   ],
   "source": [
    "print(numbers)"
   ]
  },
  {
   "cell_type": "code",
   "execution_count": 183,
   "id": "da4f9cae-25ce-4979-bab0-cb2b1c57c1be",
   "metadata": {},
   "outputs": [],
   "source": [
    "numbers2 = numbers.copy()"
   ]
  },
  {
   "cell_type": "code",
   "execution_count": 184,
   "id": "13ef17aa-7584-4e11-930c-b94292cb10f1",
   "metadata": {},
   "outputs": [
    {
     "name": "stdout",
     "output_type": "stream",
     "text": [
      "[1 2 3 4 5]\n"
     ]
    }
   ],
   "source": [
    "print(numbers2)"
   ]
  },
  {
   "cell_type": "code",
   "execution_count": 185,
   "id": "91fa5324-1663-4935-b34f-3ad3e6bd559b",
   "metadata": {},
   "outputs": [],
   "source": [
    "numbers[1] *= 10"
   ]
  },
  {
   "cell_type": "code",
   "execution_count": 186,
   "id": "636f6a0a-ce08-418b-a462-9afd8044a706",
   "metadata": {},
   "outputs": [
    {
     "name": "stdout",
     "output_type": "stream",
     "text": [
      "[ 1 20  3  4  5]\n"
     ]
    }
   ],
   "source": [
    "print(numbers)"
   ]
  },
  {
   "cell_type": "code",
   "execution_count": 187,
   "id": "be126d4b-a64e-4621-9bb4-2fc64a6068f1",
   "metadata": {},
   "outputs": [
    {
     "name": "stdout",
     "output_type": "stream",
     "text": [
      "[1 2 3 4 5]\n"
     ]
    }
   ],
   "source": [
    "print(numbers2)"
   ]
  },
  {
   "cell_type": "markdown",
   "id": "24b63f1f-2576-441e-963a-ea37e3e0c5e9",
   "metadata": {},
   "source": [
    "# 7.13 Reshaping and Transposing"
   ]
  },
  {
   "cell_type": "code",
   "execution_count": 188,
   "id": "717b7d9d-cd9d-42ec-8a5d-20318f20f850",
   "metadata": {},
   "outputs": [],
   "source": [
    "import numpy as np"
   ]
  },
  {
   "cell_type": "code",
   "execution_count": 189,
   "id": "34b50c4c-66ea-4161-8759-6ba5d71b8115",
   "metadata": {},
   "outputs": [],
   "source": [
    "grades = np.array([[87, 96, 70], [100, 87, 90]])"
   ]
  },
  {
   "cell_type": "code",
   "execution_count": 190,
   "id": "57fd85f7-0f05-4b44-84ec-6c7e04d425ee",
   "metadata": {},
   "outputs": [
    {
     "name": "stdout",
     "output_type": "stream",
     "text": [
      "[[ 87  96  70]\n",
      " [100  87  90]]\n"
     ]
    }
   ],
   "source": [
    "print(grades)"
   ]
  },
  {
   "cell_type": "code",
   "execution_count": 191,
   "id": "66b64cfc-e14e-425f-b598-fa04c0c6a0c8",
   "metadata": {},
   "outputs": [
    {
     "data": {
      "text/plain": [
       "array([[ 87,  96,  70, 100,  87,  90]])"
      ]
     },
     "execution_count": 191,
     "metadata": {},
     "output_type": "execute_result"
    }
   ],
   "source": [
    "grades.reshape(1, 6)"
   ]
  },
  {
   "cell_type": "code",
   "execution_count": 192,
   "id": "3852206f-26ed-4f38-9a89-2480eff436a7",
   "metadata": {},
   "outputs": [
    {
     "name": "stdout",
     "output_type": "stream",
     "text": [
      "[[ 87  96  70]\n",
      " [100  87  90]]\n"
     ]
    }
   ],
   "source": [
    "print(grades)"
   ]
  },
  {
   "cell_type": "code",
   "execution_count": 193,
   "id": "fe93aff9-3dda-4cca-a1d7-24d1c1da7c3a",
   "metadata": {},
   "outputs": [],
   "source": [
    "grades.resize(1, 6)"
   ]
  },
  {
   "cell_type": "code",
   "execution_count": 194,
   "id": "d58b4523-49ac-415f-957f-fb25e6b86a76",
   "metadata": {},
   "outputs": [
    {
     "name": "stdout",
     "output_type": "stream",
     "text": [
      "[[ 87  96  70 100  87  90]]\n"
     ]
    }
   ],
   "source": [
    "print(grades)"
   ]
  },
  {
   "cell_type": "markdown",
   "id": "869ed628-57af-419b-b45d-b47f2179f0b9",
   "metadata": {},
   "source": [
    "# flatten vs. ravel"
   ]
  },
  {
   "cell_type": "code",
   "execution_count": 195,
   "id": "42bd2b91-0282-4d76-83eb-8d2853afd218",
   "metadata": {},
   "outputs": [],
   "source": [
    "grades = np.array([[87, 96, 70], [100, 87, 90]])"
   ]
  },
  {
   "cell_type": "code",
   "execution_count": 196,
   "id": "523f5287-2db6-4657-bb7e-81a3dec36e73",
   "metadata": {},
   "outputs": [
    {
     "name": "stdout",
     "output_type": "stream",
     "text": [
      "[[ 87  96  70]\n",
      " [100  87  90]]\n"
     ]
    }
   ],
   "source": [
    "print(grades)"
   ]
  },
  {
   "cell_type": "code",
   "execution_count": 197,
   "id": "47041aca-ddf1-4caf-860d-b020b9054b31",
   "metadata": {},
   "outputs": [],
   "source": [
    "flattened = grades.flatten()"
   ]
  },
  {
   "cell_type": "code",
   "execution_count": 198,
   "id": "fc27a41f-be82-42e7-b768-bcc8c5b05448",
   "metadata": {},
   "outputs": [
    {
     "name": "stdout",
     "output_type": "stream",
     "text": [
      "[ 87  96  70 100  87  90]\n"
     ]
    }
   ],
   "source": [
    "print(flattened)"
   ]
  },
  {
   "cell_type": "code",
   "execution_count": 199,
   "id": "041d059b-54e9-4f3d-9c29-dc174eca2d70",
   "metadata": {},
   "outputs": [
    {
     "name": "stdout",
     "output_type": "stream",
     "text": [
      "[[ 87  96  70]\n",
      " [100  87  90]]\n"
     ]
    }
   ],
   "source": [
    "print(grades)"
   ]
  },
  {
   "cell_type": "code",
   "execution_count": 200,
   "id": "d64d7954-e74d-4f13-bc4d-94e8326dd037",
   "metadata": {},
   "outputs": [],
   "source": [
    "flattened[0] = 100"
   ]
  },
  {
   "cell_type": "code",
   "execution_count": 201,
   "id": "46ac8621-5f73-42c3-a91f-e9976b2b344d",
   "metadata": {},
   "outputs": [
    {
     "name": "stdout",
     "output_type": "stream",
     "text": [
      "[100  96  70 100  87  90]\n"
     ]
    }
   ],
   "source": [
    "print(flattened)"
   ]
  },
  {
   "cell_type": "code",
   "execution_count": 202,
   "id": "589a4fb9-817f-471b-9ede-731d6ee63219",
   "metadata": {},
   "outputs": [
    {
     "name": "stdout",
     "output_type": "stream",
     "text": [
      "[[ 87  96  70]\n",
      " [100  87  90]]\n"
     ]
    }
   ],
   "source": [
    "print(grades)"
   ]
  },
  {
   "cell_type": "code",
   "execution_count": 205,
   "id": "8ddae6ce-9728-4bb6-abfc-0ab148f52887",
   "metadata": {},
   "outputs": [],
   "source": [
    "raveled = grades.ravel()"
   ]
  },
  {
   "cell_type": "code",
   "execution_count": 206,
   "id": "ab2585d9-40ef-4cf8-a412-238b0c9f49bb",
   "metadata": {},
   "outputs": [
    {
     "name": "stdout",
     "output_type": "stream",
     "text": [
      "[ 87  96  70 100  87  90]\n"
     ]
    }
   ],
   "source": [
    "print(raveled)"
   ]
  },
  {
   "cell_type": "code",
   "execution_count": 207,
   "id": "c449f09c-a5e4-4ab2-aea2-291ff060eb49",
   "metadata": {},
   "outputs": [
    {
     "name": "stdout",
     "output_type": "stream",
     "text": [
      "[[ 87  96  70]\n",
      " [100  87  90]]\n"
     ]
    }
   ],
   "source": [
    "print(grades)"
   ]
  },
  {
   "cell_type": "code",
   "execution_count": 208,
   "id": "4869db09-75ad-4485-9c56-946a0e29af83",
   "metadata": {},
   "outputs": [],
   "source": [
    "raveled[0] = 100"
   ]
  },
  {
   "cell_type": "code",
   "execution_count": 209,
   "id": "48faa9af-e745-47d3-abb7-23ab46e7d59c",
   "metadata": {},
   "outputs": [
    {
     "name": "stdout",
     "output_type": "stream",
     "text": [
      "[100  96  70 100  87  90]\n"
     ]
    }
   ],
   "source": [
    "print(raveled)"
   ]
  },
  {
   "cell_type": "code",
   "execution_count": 210,
   "id": "3b22da88-65e0-4a5f-95e8-2acf05ed0219",
   "metadata": {},
   "outputs": [
    {
     "name": "stdout",
     "output_type": "stream",
     "text": [
      "[[100  96  70]\n",
      " [100  87  90]]\n"
     ]
    }
   ],
   "source": [
    "print(grades)"
   ]
  },
  {
   "cell_type": "markdown",
   "id": "95d2e3bf-c859-43ab-acea-c576625f64c8",
   "metadata": {},
   "source": [
    "# Transposing Rows and Columns"
   ]
  },
  {
   "cell_type": "code",
   "execution_count": 211,
   "id": "48bdbc99-5e0e-46a4-bec3-09e9386ae860",
   "metadata": {},
   "outputs": [
    {
     "data": {
      "text/plain": [
       "array([[100, 100],\n",
       "       [ 96,  87],\n",
       "       [ 70,  90]])"
      ]
     },
     "execution_count": 211,
     "metadata": {},
     "output_type": "execute_result"
    }
   ],
   "source": [
    "grades.T"
   ]
  },
  {
   "cell_type": "code",
   "execution_count": 212,
   "id": "6df4902c-b566-4cf1-87c6-cf3f05d2f87d",
   "metadata": {},
   "outputs": [
    {
     "name": "stdout",
     "output_type": "stream",
     "text": [
      "[[100  96  70]\n",
      " [100  87  90]]\n"
     ]
    }
   ],
   "source": [
    "print(grades)"
   ]
  },
  {
   "cell_type": "markdown",
   "id": "ce12b3a2-9446-4520-be7a-e49b4fc5c50c",
   "metadata": {},
   "source": [
    "# Horizontal and Vertical Stacking"
   ]
  },
  {
   "cell_type": "code",
   "execution_count": 213,
   "id": "399fbbee-9438-4b87-a139-667ec8b5da4c",
   "metadata": {},
   "outputs": [],
   "source": [
    "grades2 = np.array([[94, 77, 90], [100, 81, 82]])"
   ]
  },
  {
   "cell_type": "code",
   "execution_count": 214,
   "id": "75551abc-b3f2-4ae9-ac7d-228687fc44da",
   "metadata": {},
   "outputs": [
    {
     "name": "stdout",
     "output_type": "stream",
     "text": [
      "[[100  96  70  94  77  90]\n",
      " [100  87  90 100  81  82]]\n"
     ]
    }
   ],
   "source": [
    "print(np.hstack((grades, grades2)))"
   ]
  },
  {
   "cell_type": "code",
   "execution_count": 215,
   "id": "d4a8710f-c9ed-4c05-b45f-a31d9b8c447d",
   "metadata": {},
   "outputs": [
    {
     "name": "stdout",
     "output_type": "stream",
     "text": [
      "[[100  96  70]\n",
      " [100  87  90]\n",
      " [ 94  77  90]\n",
      " [100  81  82]]\n"
     ]
    }
   ],
   "source": [
    "print(np.vstack((grades, grades2)))"
   ]
  },
  {
   "cell_type": "markdown",
   "id": "1d520950-071d-4786-9b06-badbe6e41681",
   "metadata": {},
   "source": [
    "# 7.14 Intro to Data Science: pandas Series and DataFrames"
   ]
  },
  {
   "cell_type": "markdown",
   "id": "bfb5b00e-420e-480b-8048-ed2a3e49d20a",
   "metadata": {},
   "source": [
    "# Creating a Series with Default Indices"
   ]
  },
  {
   "cell_type": "code",
   "execution_count": 216,
   "id": "ad7b45c0-c502-4cf1-ac9a-2fe5aeef7ef8",
   "metadata": {},
   "outputs": [],
   "source": [
    "import pandas as pd"
   ]
  },
  {
   "cell_type": "code",
   "execution_count": 217,
   "id": "7a0d56d7-02af-4d19-8502-f6b860706849",
   "metadata": {},
   "outputs": [],
   "source": [
    "grades = pd.Series([87, 100, 94])"
   ]
  },
  {
   "cell_type": "code",
   "execution_count": 218,
   "id": "e7fed959-4c0a-4f95-8f05-760e78dd0473",
   "metadata": {},
   "outputs": [
    {
     "name": "stdout",
     "output_type": "stream",
     "text": [
      "0     87\n",
      "1    100\n",
      "2     94\n",
      "dtype: int64\n"
     ]
    }
   ],
   "source": [
    "print(grades)"
   ]
  },
  {
   "cell_type": "markdown",
   "id": "cac10f0a-71b4-4894-93f7-be5fecfc5c7f",
   "metadata": {},
   "source": [
    "# Creating a Series with All Elements Having the Same Value"
   ]
  },
  {
   "cell_type": "code",
   "execution_count": 219,
   "id": "fc820f54-f2c2-4de5-bd52-6b3b759a1047",
   "metadata": {},
   "outputs": [
    {
     "data": {
      "text/plain": [
       "0    98.6\n",
       "1    98.6\n",
       "2    98.6\n",
       "dtype: float64"
      ]
     },
     "execution_count": 219,
     "metadata": {},
     "output_type": "execute_result"
    }
   ],
   "source": [
    "pd.Series(98.6, range(3))"
   ]
  },
  {
   "cell_type": "markdown",
   "id": "54fa0b80-bb1a-48e3-bca7-c8b7fb35701b",
   "metadata": {},
   "source": [
    "# Accessing a Series’ Elements"
   ]
  },
  {
   "cell_type": "code",
   "execution_count": 220,
   "id": "7e84e1c8-b1dd-406b-b0e6-42a67d30f1c8",
   "metadata": {},
   "outputs": [
    {
     "name": "stdout",
     "output_type": "stream",
     "text": [
      "87\n"
     ]
    }
   ],
   "source": [
    "print(grades[0])"
   ]
  },
  {
   "cell_type": "markdown",
   "id": "39f1bedd-c628-4ce7-a4d8-1f25c7f763f4",
   "metadata": {},
   "source": [
    "# Producing Descriptive Statistics for a Series"
   ]
  },
  {
   "cell_type": "code",
   "execution_count": 221,
   "id": "41a2fded-f58c-4d69-84a6-b26b60fb797d",
   "metadata": {},
   "outputs": [
    {
     "name": "stdout",
     "output_type": "stream",
     "text": [
      "3\n"
     ]
    }
   ],
   "source": [
    "print(grades.count())"
   ]
  },
  {
   "cell_type": "code",
   "execution_count": 222,
   "id": "fb56cbf7-4860-47c3-a0b0-5d8375e7ed82",
   "metadata": {},
   "outputs": [
    {
     "name": "stdout",
     "output_type": "stream",
     "text": [
      "93.66666666666667\n"
     ]
    }
   ],
   "source": [
    "print(grades.mean())"
   ]
  },
  {
   "cell_type": "code",
   "execution_count": 223,
   "id": "7a4489c4-888a-45f0-915d-7d320927356a",
   "metadata": {},
   "outputs": [
    {
     "name": "stdout",
     "output_type": "stream",
     "text": [
      "87\n"
     ]
    }
   ],
   "source": [
    "print(grades.min())"
   ]
  },
  {
   "cell_type": "code",
   "execution_count": 224,
   "id": "b3037a81-c1ca-44a4-b43f-63162578b083",
   "metadata": {},
   "outputs": [
    {
     "name": "stdout",
     "output_type": "stream",
     "text": [
      "100\n"
     ]
    }
   ],
   "source": [
    "print(grades.max())"
   ]
  },
  {
   "cell_type": "code",
   "execution_count": 225,
   "id": "d7746810-95f2-4e9a-b1c7-d50af6d09ff9",
   "metadata": {},
   "outputs": [
    {
     "name": "stdout",
     "output_type": "stream",
     "text": [
      "6.506407098647712\n"
     ]
    }
   ],
   "source": [
    "print(grades.std())"
   ]
  },
  {
   "cell_type": "code",
   "execution_count": 226,
   "id": "b77f44bd-2f1f-4a94-9a69-968c40213607",
   "metadata": {},
   "outputs": [
    {
     "name": "stdout",
     "output_type": "stream",
     "text": [
      "count      3.000000\n",
      "mean      93.666667\n",
      "std        6.506407\n",
      "min       87.000000\n",
      "25%       90.500000\n",
      "50%       94.000000\n",
      "75%       97.000000\n",
      "max      100.000000\n",
      "dtype: float64\n"
     ]
    }
   ],
   "source": [
    "print(grades.describe())"
   ]
  },
  {
   "cell_type": "markdown",
   "id": "e1b6cb77-0ca9-4649-a45f-7feb70788f77",
   "metadata": {},
   "source": [
    "# Creating a Series with Custom Indices"
   ]
  },
  {
   "cell_type": "markdown",
   "id": "56b5462b-f828-4c0c-bd5d-1ef3f22f6344",
   "metadata": {},
   "source": [
    "#########PROJECT 5##############"
   ]
  },
  {
   "cell_type": "markdown",
   "id": "8fc6ea7a-8871-4780-9088-c3176de6a152",
   "metadata": {},
   "source": [
    "# Create s Series with Default Indecies"
   ]
  },
  {
   "cell_type": "code",
   "execution_count": 5,
   "id": "e9d53d56-8399-47aa-97ec-ee8338d0db32",
   "metadata": {},
   "outputs": [],
   "source": [
    "import pandas as pd"
   ]
  },
  {
   "cell_type": "code",
   "execution_count": 6,
   "id": "9318f807-cce8-4c77-9019-7880b4ac8d4f",
   "metadata": {},
   "outputs": [],
   "source": [
    "grades = pd.Series([87, 100, 94])"
   ]
  },
  {
   "cell_type": "code",
   "execution_count": 7,
   "id": "90a38b4e-b956-4bad-8830-4d3eb1919ed2",
   "metadata": {},
   "outputs": [
    {
     "name": "stdout",
     "output_type": "stream",
     "text": [
      "87\n"
     ]
    }
   ],
   "source": [
    "print(grades[0])"
   ]
  },
  {
   "cell_type": "markdown",
   "id": "50b02225-cc09-4384-9397-ff4cd7df3bf6",
   "metadata": {},
   "source": [
    "# call in the built in series functions"
   ]
  },
  {
   "cell_type": "code",
   "execution_count": 9,
   "id": "94e59815-48e0-411d-abac-68abd791edeb",
   "metadata": {},
   "outputs": [
    {
     "name": "stdout",
     "output_type": "stream",
     "text": [
      "3\n"
     ]
    }
   ],
   "source": [
    "print(grades.count())"
   ]
  },
  {
   "cell_type": "code",
   "execution_count": 10,
   "id": "45e706f4-7c08-4437-a0d9-307a3d5d674b",
   "metadata": {},
   "outputs": [
    {
     "name": "stdout",
     "output_type": "stream",
     "text": [
      "93.66666666666667\n"
     ]
    }
   ],
   "source": [
    "print(grades.mean())"
   ]
  },
  {
   "cell_type": "code",
   "execution_count": 11,
   "id": "1a3aa469-8156-413a-9e2b-414df01d3241",
   "metadata": {},
   "outputs": [
    {
     "name": "stdout",
     "output_type": "stream",
     "text": [
      "87\n"
     ]
    }
   ],
   "source": [
    "print(grades.min())"
   ]
  },
  {
   "cell_type": "code",
   "execution_count": 12,
   "id": "48e5e75b-8e3e-449c-8544-e0684fffc706",
   "metadata": {},
   "outputs": [
    {
     "name": "stdout",
     "output_type": "stream",
     "text": [
      "100\n"
     ]
    }
   ],
   "source": [
    "print(grades.max())"
   ]
  },
  {
   "cell_type": "code",
   "execution_count": 13,
   "id": "90183601-476e-4d82-a874-c915246df512",
   "metadata": {},
   "outputs": [
    {
     "name": "stdout",
     "output_type": "stream",
     "text": [
      "6.506407098647712\n"
     ]
    }
   ],
   "source": [
    "print(grades.std())"
   ]
  },
  {
   "cell_type": "code",
   "execution_count": 14,
   "id": "f64834a0-c36e-411b-8601-c59beb93f447",
   "metadata": {},
   "outputs": [
    {
     "name": "stdout",
     "output_type": "stream",
     "text": [
      "count      3.000000\n",
      "mean      93.666667\n",
      "std        6.506407\n",
      "min       87.000000\n",
      "25%       90.500000\n",
      "50%       94.000000\n",
      "75%       97.000000\n",
      "max      100.000000\n",
      "dtype: float64\n"
     ]
    }
   ],
   "source": [
    "print(grades.describe())"
   ]
  },
  {
   "cell_type": "markdown",
   "id": "06984659-9237-47ba-9da7-fd40d3c4d644",
   "metadata": {},
   "source": [
    "# Dictionary Initializers"
   ]
  },
  {
   "cell_type": "code",
   "execution_count": 15,
   "id": "fd00f1fd-90f5-422d-bfd1-a5d7a989854a",
   "metadata": {},
   "outputs": [],
   "source": [
    "grades = pd.Series({'Wally': 87, 'Eva': 100, 'Sam': 94})"
   ]
  },
  {
   "cell_type": "code",
   "execution_count": 16,
   "id": "df3f910c-c68c-47ec-a9ae-aed01607dc09",
   "metadata": {},
   "outputs": [
    {
     "name": "stdout",
     "output_type": "stream",
     "text": [
      "Wally     87\n",
      "Eva      100\n",
      "Sam       94\n",
      "dtype: int64\n"
     ]
    }
   ],
   "source": [
    "print(grades)"
   ]
  },
  {
   "cell_type": "code",
   "execution_count": 17,
   "id": "34df4ad9-ffb5-4619-9209-d3037d0c0235",
   "metadata": {},
   "outputs": [
    {
     "name": "stdout",
     "output_type": "stream",
     "text": [
      "100\n"
     ]
    }
   ],
   "source": [
    "print(grades['Eva'])"
   ]
  },
  {
   "cell_type": "code",
   "execution_count": 18,
   "id": "599b2a5c-a35b-4104-a07c-0f496dfce0f9",
   "metadata": {},
   "outputs": [
    {
     "name": "stdout",
     "output_type": "stream",
     "text": [
      "87\n"
     ]
    }
   ],
   "source": [
    "print(grades.Wally)"
   ]
  },
  {
   "cell_type": "code",
   "execution_count": 19,
   "id": "777f83d2-2133-46d1-87d7-6fc7b66b5d50",
   "metadata": {},
   "outputs": [
    {
     "name": "stdout",
     "output_type": "stream",
     "text": [
      "[ 87 100  94]\n"
     ]
    }
   ],
   "source": [
    "print(grades.values)"
   ]
  },
  {
   "cell_type": "code",
   "execution_count": 20,
   "id": "9485a4bb-4a57-49e7-8dbd-3babc04225de",
   "metadata": {},
   "outputs": [
    {
     "name": "stdout",
     "output_type": "stream",
     "text": [
      "Garrett Kopp\n"
     ]
    }
   ],
   "source": [
    "print('Garrett Kopp')"
   ]
  }
 ],
 "metadata": {
  "kernelspec": {
   "display_name": "Python 3 (ipykernel)",
   "language": "python",
   "name": "python3"
  },
  "language_info": {
   "codemirror_mode": {
    "name": "ipython",
    "version": 3
   },
   "file_extension": ".py",
   "mimetype": "text/x-python",
   "name": "python",
   "nbconvert_exporter": "python",
   "pygments_lexer": "ipython3",
   "version": "3.9.12"
  }
 },
 "nbformat": 4,
 "nbformat_minor": 5
}
