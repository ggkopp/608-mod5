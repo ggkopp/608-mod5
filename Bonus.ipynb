{
 "cells": [
  {
   "cell_type": "markdown",
   "id": "f670a782-2acb-4ebe-bf4d-520cc9f38736",
   "metadata": {},
   "source": [
    "# Bonus (Optional)"
   ]
  },
  {
   "cell_type": "markdown",
   "id": "ede96e1c-39cd-44b3-b4bb-26534dcc842d",
   "metadata": {},
   "source": [
    "# Zipcode Work"
   ]
  },
  {
   "cell_type": "code",
   "execution_count": 2,
   "id": "08fafe45-1c38-4285-a105-c2171a4b30b1",
   "metadata": {},
   "outputs": [],
   "source": [
    "import pandas as pd"
   ]
  },
  {
   "cell_type": "code",
   "execution_count": 3,
   "id": "e2a3e19b-075c-4b9b-852a-7a45af483e06",
   "metadata": {},
   "outputs": [],
   "source": [
    "zips = pd.Series({'Ventura': '93003', 'Nampa': '83687'})"
   ]
  },
  {
   "cell_type": "code",
   "execution_count": 4,
   "id": "ac1e60b1-9ab4-4da6-af48-5658227894df",
   "metadata": {},
   "outputs": [
    {
     "name": "stdout",
     "output_type": "stream",
     "text": [
      "Ventura    93003\n",
      "Nampa      83687\n",
      "dtype: object\n"
     ]
    }
   ],
   "source": [
    "print(zips)"
   ]
  },
  {
   "cell_type": "code",
   "execution_count": 7,
   "id": "f79786f6-ff84-488a-bcf4-dd153fbe2ac9",
   "metadata": {},
   "outputs": [
    {
     "name": "stdout",
     "output_type": "stream",
     "text": [
      "Ventura    True\n",
      "Nampa      True\n",
      "dtype: bool\n"
     ]
    }
   ],
   "source": [
    "print(zips.str.match(r'\\d{5}'))"
   ]
  },
  {
   "cell_type": "code",
   "execution_count": 13,
   "id": "47550cf9-be21-411d-8058-b0b6ce7aa0a6",
   "metadata": {},
   "outputs": [
    {
     "name": "stdout",
     "output_type": "stream",
     "text": [
      "Garrett Kopp\n"
     ]
    }
   ],
   "source": [
    "print('Garrett Kopp')"
   ]
  },
  {
   "cell_type": "markdown",
   "id": "53baa076-df4e-4f35-a9d0-e1ea9a0bee8f",
   "metadata": {},
   "source": [
    "# City Names Work"
   ]
  },
  {
   "cell_type": "code",
   "execution_count": 8,
   "id": "eb0c9332-1ddf-4510-80aa-a0f76339fd4c",
   "metadata": {},
   "outputs": [],
   "source": [
    "cities = pd.Series(['Ventura, CA 93003', 'Nampa, ID 83687'])"
   ]
  },
  {
   "cell_type": "code",
   "execution_count": 9,
   "id": "0f495d77-14ab-422a-831e-a1a327843c2e",
   "metadata": {},
   "outputs": [
    {
     "name": "stdout",
     "output_type": "stream",
     "text": [
      "0    Ventura, CA 93003\n",
      "1      Nampa, ID 83687\n",
      "dtype: object\n"
     ]
    }
   ],
   "source": [
    "print(cities)"
   ]
  },
  {
   "cell_type": "code",
   "execution_count": 10,
   "id": "de233753-64de-4cb3-b1b8-23dbef4721e0",
   "metadata": {},
   "outputs": [
    {
     "name": "stdout",
     "output_type": "stream",
     "text": [
      "0    True\n",
      "1    True\n",
      "dtype: bool\n"
     ]
    }
   ],
   "source": [
    "print(cities.str.contains(r' [A-Z]{2} '))"
   ]
  },
  {
   "cell_type": "code",
   "execution_count": 11,
   "id": "28a3ebff-eed1-4cc4-808a-c4685dc12a2a",
   "metadata": {},
   "outputs": [
    {
     "name": "stdout",
     "output_type": "stream",
     "text": [
      "0    False\n",
      "1    False\n",
      "dtype: bool\n"
     ]
    }
   ],
   "source": [
    "print(cities.str.match(r' [A-Z]{2} '))"
   ]
  },
  {
   "cell_type": "code",
   "execution_count": 12,
   "id": "3877c0f6-a02c-4075-af13-6cf902399628",
   "metadata": {},
   "outputs": [
    {
     "name": "stdout",
     "output_type": "stream",
     "text": [
      "Garrett Kopp\n"
     ]
    }
   ],
   "source": [
    "print('Garrett Kopp')"
   ]
  },
  {
   "cell_type": "markdown",
   "id": "1a3571bf-159f-4167-bb65-ee82eb8b9b16",
   "metadata": {},
   "source": [
    "# DataFrames / Reformatting work"
   ]
  },
  {
   "cell_type": "code",
   "execution_count": 14,
   "id": "7c1f1a21-70fe-4aa3-87ac-04a5a9a5d103",
   "metadata": {},
   "outputs": [],
   "source": [
    "contacts = [['John Doe', 'johndoe@gmail.com', '5551115555'], \n",
    "            ['Mcully Culkin', 'mcullyculkin@yahoo.com', '5552225555']]"
   ]
  },
  {
   "cell_type": "code",
   "execution_count": 15,
   "id": "84d51528-9f64-4f2f-a632-25bb7df457cb",
   "metadata": {},
   "outputs": [],
   "source": [
    "contactsdf = pd.DataFrame(contacts,\n",
    "                          columns=['Name', 'Email', 'Phone'])"
   ]
  },
  {
   "cell_type": "code",
   "execution_count": 16,
   "id": "27a50ee6-3b58-4ee6-b96c-bf7d13173a2c",
   "metadata": {},
   "outputs": [
    {
     "name": "stdout",
     "output_type": "stream",
     "text": [
      "            Name                   Email       Phone\n",
      "0       John Doe       johndoe@gmail.com  5551115555\n",
      "1  Mcully Culkin  mcullyculkin@yahoo.com  5552225555\n"
     ]
    }
   ],
   "source": [
    "print(contactsdf)"
   ]
  },
  {
   "cell_type": "code",
   "execution_count": 17,
   "id": "5936e0bc-eeef-4c92-9ab2-f4dff12c80bd",
   "metadata": {},
   "outputs": [],
   "source": [
    "import re"
   ]
  },
  {
   "cell_type": "code",
   "execution_count": 18,
   "id": "ebab5368-b326-4723-83aa-49e32f4c2d9c",
   "metadata": {},
   "outputs": [],
   "source": [
    "def get_formatted_phone(value):\n",
    "    result = re.fullmatch(r'(\\d{3})(\\d{3})(\\d{4})', value)\n",
    "    return '-'.join(result.groups()) if result else value"
   ]
  },
  {
   "cell_type": "code",
   "execution_count": 19,
   "id": "a26c3b3d-1c9d-4bd4-a060-b0cc286590c5",
   "metadata": {},
   "outputs": [
    {
     "name": "stdout",
     "output_type": "stream",
     "text": [
      "0    555-111-5555\n",
      "1    555-222-5555\n",
      "Name: Phone, dtype: object\n"
     ]
    }
   ],
   "source": [
    "formatted_phone = contactsdf['Phone'].map(get_formatted_phone)\n",
    "print(formatted_phone)"
   ]
  },
  {
   "cell_type": "code",
   "execution_count": 20,
   "id": "e5d175f0-9f3e-429b-8292-2441da22ca3d",
   "metadata": {},
   "outputs": [
    {
     "name": "stdout",
     "output_type": "stream",
     "text": [
      "Garrett Kopp\n"
     ]
    }
   ],
   "source": [
    "print('Garrett Kopp')"
   ]
  }
 ],
 "metadata": {
  "kernelspec": {
   "display_name": "Python 3 (ipykernel)",
   "language": "python",
   "name": "python3"
  },
  "language_info": {
   "codemirror_mode": {
    "name": "ipython",
    "version": 3
   },
   "file_extension": ".py",
   "mimetype": "text/x-python",
   "name": "python",
   "nbconvert_exporter": "python",
   "pygments_lexer": "ipython3",
   "version": "3.9.12"
  }
 },
 "nbformat": 4,
 "nbformat_minor": 5
}
