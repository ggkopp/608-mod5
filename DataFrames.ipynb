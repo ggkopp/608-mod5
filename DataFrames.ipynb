{
 "cells": [
  {
   "cell_type": "markdown",
   "id": "ab31da75-f25a-44aa-966b-dc74e1e3c311",
   "metadata": {},
   "source": [
    "# 8.2.1 Presentation Types"
   ]
  },
  {
   "cell_type": "code",
   "execution_count": 16,
   "id": "0da51824-5e65-4145-beb6-e38e6cd72a4f",
   "metadata": {},
   "outputs": [
    {
     "name": "stdout",
     "output_type": "stream",
     "text": [
      "17.49\n"
     ]
    }
   ],
   "source": [
    "print(f'{17.489:.2f}')"
   ]
  },
  {
   "cell_type": "markdown",
   "id": "8fb3c6ed-89ac-46cc-bc5f-b9450e72ec40",
   "metadata": {},
   "source": [
    "# Integers"
   ]
  },
  {
   "cell_type": "code",
   "execution_count": 17,
   "id": "a5b70a78-c5f0-4221-ac84-87d7e3b0c058",
   "metadata": {},
   "outputs": [
    {
     "name": "stdout",
     "output_type": "stream",
     "text": [
      "10\n"
     ]
    }
   ],
   "source": [
    "print(f'{10:d}')"
   ]
  },
  {
   "cell_type": "markdown",
   "id": "d84cfb9f-03fc-4249-a56a-1aecd1ff4ff5",
   "metadata": {},
   "source": [
    "# Characters"
   ]
  },
  {
   "cell_type": "code",
   "execution_count": 18,
   "id": "aa554e89-9ce5-4b5a-9515-d15c7636301a",
   "metadata": {},
   "outputs": [
    {
     "name": "stdout",
     "output_type": "stream",
     "text": [
      "A a\n"
     ]
    }
   ],
   "source": [
    "print(f'{65:c} {97:c}')"
   ]
  },
  {
   "cell_type": "code",
   "execution_count": 19,
   "id": "b87b27d0-5cfc-48e4-9b87-1cb69a94f364",
   "metadata": {},
   "outputs": [
    {
     "name": "stdout",
     "output_type": "stream",
     "text": [
      "hello 7\n"
     ]
    }
   ],
   "source": [
    "print(f'{\"hello\":s} {7}')"
   ]
  },
  {
   "cell_type": "markdown",
   "id": "ddc14e59-0203-4260-af92-920fddad0125",
   "metadata": {},
   "source": [
    "# Floating-Point and Decimal Values"
   ]
  },
  {
   "cell_type": "code",
   "execution_count": 20,
   "id": "79e5e528-7ff5-4dee-9bc3-a1e15c5ecb00",
   "metadata": {},
   "outputs": [],
   "source": [
    "from decimal import Decimal"
   ]
  },
  {
   "cell_type": "code",
   "execution_count": 21,
   "id": "5078df09-1783-4635-86e4-9541de74e939",
   "metadata": {},
   "outputs": [
    {
     "name": "stdout",
     "output_type": "stream",
     "text": [
      "10000000000000000000000000.000\n"
     ]
    }
   ],
   "source": [
    "print(f'{Decimal(\"10000000000000000000000000.0\"):.3f}')"
   ]
  },
  {
   "cell_type": "code",
   "execution_count": 22,
   "id": "39f2a973-123c-41fc-9bc1-203420b10c81",
   "metadata": {},
   "outputs": [
    {
     "name": "stdout",
     "output_type": "stream",
     "text": [
      "1.000e+25\n"
     ]
    }
   ],
   "source": [
    "print(f'{Decimal(\"10000000000000000000000000.0\"):.3e}')"
   ]
  },
  {
   "cell_type": "markdown",
   "id": "d2fc6a8d-5cc2-4cb3-92e6-f3bc66061716",
   "metadata": {},
   "source": [
    "# 8.2.2 Field Widths and Alignment "
   ]
  },
  {
   "cell_type": "code",
   "execution_count": 23,
   "id": "06ec45f2-488d-4be9-8ee0-b30a5aecb830",
   "metadata": {},
   "outputs": [
    {
     "name": "stdout",
     "output_type": "stream",
     "text": [
      "[        27]\n"
     ]
    }
   ],
   "source": [
    "print(f'[{27:10d}]')"
   ]
  },
  {
   "cell_type": "code",
   "execution_count": 24,
   "id": "8d230b9f-48e3-4a01-bddf-1a7748bda895",
   "metadata": {},
   "outputs": [
    {
     "name": "stdout",
     "output_type": "stream",
     "text": [
      "[  3.500000]\n"
     ]
    }
   ],
   "source": [
    "print(f'[{3.5:10f}]')"
   ]
  },
  {
   "cell_type": "code",
   "execution_count": 25,
   "id": "ffa5a40d-4533-4392-9003-9d75c5ea6bf5",
   "metadata": {},
   "outputs": [
    {
     "name": "stdout",
     "output_type": "stream",
     "text": [
      "[hello     ]\n"
     ]
    }
   ],
   "source": [
    "print(f'[{\"hello\":10}]')"
   ]
  },
  {
   "cell_type": "markdown",
   "id": "476b29b1-aec6-40ec-97e0-981c51790d37",
   "metadata": {},
   "source": [
    "# Explicitly Specifying Left and Right Alignment in a Field "
   ]
  },
  {
   "cell_type": "code",
   "execution_count": 26,
   "id": "57e30b52-a9f1-4b8c-b478-c65fd0c227ca",
   "metadata": {},
   "outputs": [
    {
     "name": "stdout",
     "output_type": "stream",
     "text": [
      "[27             ]\n"
     ]
    }
   ],
   "source": [
    "print(f'[{27:<15d}]')"
   ]
  },
  {
   "cell_type": "code",
   "execution_count": 27,
   "id": "931f6057-b139-4c92-b6c0-d88849ee95f8",
   "metadata": {},
   "outputs": [
    {
     "name": "stdout",
     "output_type": "stream",
     "text": [
      "[3.500000       ]\n"
     ]
    }
   ],
   "source": [
    "print(f'[{3.5:<15f}]')"
   ]
  },
  {
   "cell_type": "code",
   "execution_count": 28,
   "id": "b32aa939-d1bf-49a0-a556-79244648042f",
   "metadata": {},
   "outputs": [
    {
     "name": "stdout",
     "output_type": "stream",
     "text": [
      "[          hello]\n"
     ]
    }
   ],
   "source": [
    "print(f'[{\"hello\":>15}]')"
   ]
  },
  {
   "cell_type": "markdown",
   "id": "ba06dd86-71e6-4a4b-8779-1f5924403bfb",
   "metadata": {},
   "source": [
    "# Centering a Value in a Field "
   ]
  },
  {
   "cell_type": "code",
   "execution_count": 29,
   "id": "9b454472-3620-4b9e-ac73-e7f10c8768bc",
   "metadata": {},
   "outputs": [
    {
     "name": "stdout",
     "output_type": "stream",
     "text": [
      "[  27   ]\n"
     ]
    }
   ],
   "source": [
    "print(f'[{27:^7d}]')"
   ]
  },
  {
   "cell_type": "code",
   "execution_count": 30,
   "id": "1aa6f7f2-cdca-46f2-8a28-f1e54429b1a2",
   "metadata": {},
   "outputs": [
    {
     "name": "stdout",
     "output_type": "stream",
     "text": [
      "[3.500000]\n"
     ]
    }
   ],
   "source": [
    "print(f'[{3.5:^7f}]')"
   ]
  },
  {
   "cell_type": "code",
   "execution_count": 31,
   "id": "ca578cc0-870a-4078-a9c1-787106c165ec",
   "metadata": {},
   "outputs": [
    {
     "name": "stdout",
     "output_type": "stream",
     "text": [
      "[ hello ]\n"
     ]
    }
   ],
   "source": [
    "print(f'[{\"hello\":^7}]')"
   ]
  },
  {
   "cell_type": "markdown",
   "id": "98128328-c431-428b-bed8-36f0a5948620",
   "metadata": {},
   "source": [
    "# 8.2.3 Numeric FOrmatting - # Formatting Positive Numbers with Signs"
   ]
  },
  {
   "cell_type": "code",
   "execution_count": 32,
   "id": "21dd35be-d23a-4b04-a5fa-5fe772f449ce",
   "metadata": {},
   "outputs": [
    {
     "name": "stdout",
     "output_type": "stream",
     "text": [
      "[       +27]\n"
     ]
    }
   ],
   "source": [
    "print(f'[{27:+10d}]')"
   ]
  },
  {
   "cell_type": "code",
   "execution_count": 33,
   "id": "0b7c9bb6-5c07-4414-a331-730ec97fd324",
   "metadata": {},
   "outputs": [
    {
     "name": "stdout",
     "output_type": "stream",
     "text": [
      "[+000000027]\n"
     ]
    }
   ],
   "source": [
    "print(f'[{27:+010d}]')"
   ]
  },
  {
   "cell_type": "markdown",
   "id": "da1151c9-82b8-47e1-b6b5-86bb82cda344",
   "metadata": {},
   "source": [
    "# Using a Space Where a + Sign Would Appear in a Positive Value"
   ]
  },
  {
   "cell_type": "code",
   "execution_count": 34,
   "id": "2e0682ae-a479-4ef0-95c2-72e280a8bdfb",
   "metadata": {},
   "outputs": [
    {
     "name": "stdout",
     "output_type": "stream",
     "text": [
      "27\n",
      " 27\n",
      "-27\n"
     ]
    }
   ],
   "source": [
    "print(f'{27:d}\\n{27: d}\\n{-27: d}')"
   ]
  },
  {
   "cell_type": "markdown",
   "id": "99c9dee3-2b3f-4ed8-90a6-09438a0867d4",
   "metadata": {},
   "source": [
    "# Grouping Digits"
   ]
  },
  {
   "cell_type": "code",
   "execution_count": 35,
   "id": "e2948a7f-4f7c-48f5-9e27-934d350b3894",
   "metadata": {},
   "outputs": [
    {
     "name": "stdout",
     "output_type": "stream",
     "text": [
      "12,345,678\n"
     ]
    }
   ],
   "source": [
    "print(f'{12345678:,d}')"
   ]
  },
  {
   "cell_type": "code",
   "execution_count": 36,
   "id": "0b58fb51-1494-4572-948f-5ad9eef3d4dc",
   "metadata": {},
   "outputs": [
    {
     "name": "stdout",
     "output_type": "stream",
     "text": [
      "123,456.78\n"
     ]
    }
   ],
   "source": [
    "print(f'{123456.78:,.2f}')"
   ]
  },
  {
   "cell_type": "markdown",
   "id": "05600c7c-8ef9-41a2-9231-5f786aad8b29",
   "metadata": {},
   "source": [
    "# 8.2.4 String FOrmat Method"
   ]
  },
  {
   "cell_type": "code",
   "execution_count": 37,
   "id": "f4f3d896-58ba-4477-94ba-a7f29de557af",
   "metadata": {},
   "outputs": [
    {
     "name": "stdout",
     "output_type": "stream",
     "text": [
      "17.49\n"
     ]
    }
   ],
   "source": [
    "print('{:.2f}'.format(17.489))"
   ]
  },
  {
   "cell_type": "markdown",
   "id": "784cf035-4782-4fe4-b099-59fb91f26489",
   "metadata": {},
   "source": [
    "# Multiple Placeholders"
   ]
  },
  {
   "cell_type": "code",
   "execution_count": 38,
   "id": "33c3c472-af0c-4c99-b6fc-1bf3b2732cc5",
   "metadata": {},
   "outputs": [
    {
     "name": "stdout",
     "output_type": "stream",
     "text": [
      "Amanda Cyan\n"
     ]
    }
   ],
   "source": [
    "print('{} {}'.format('Amanda', 'Cyan'))"
   ]
  },
  {
   "cell_type": "markdown",
   "id": "c7d3c79c-b3f0-4693-80a7-46f9e08ddc42",
   "metadata": {},
   "source": [
    "# Referencing Arguments By Position Number"
   ]
  },
  {
   "cell_type": "code",
   "execution_count": 39,
   "id": "b2a68716-c1c5-4616-931e-2729d5a34de5",
   "metadata": {},
   "outputs": [
    {
     "name": "stdout",
     "output_type": "stream",
     "text": [
      "Happy Happy Birthday\n"
     ]
    }
   ],
   "source": [
    "print('{0} {0} {1}'.format('Happy', 'Birthday'))"
   ]
  },
  {
   "cell_type": "markdown",
   "id": "fb857603-a9bf-4015-8362-c1f133b3bf68",
   "metadata": {},
   "source": [
    "# Referencing Keyword Arguments"
   ]
  },
  {
   "cell_type": "code",
   "execution_count": 40,
   "id": "1e0c1ccd-4c9a-47c0-b07b-143b2aecf695",
   "metadata": {},
   "outputs": [
    {
     "name": "stdout",
     "output_type": "stream",
     "text": [
      "Amanda Gray\n"
     ]
    }
   ],
   "source": [
    "print('{first} {last}'.format(first='Amanda', last='Gray'))"
   ]
  },
  {
   "cell_type": "code",
   "execution_count": 42,
   "id": "fb5b6ed8-9953-4c81-b659-ca1593f7b933",
   "metadata": {},
   "outputs": [
    {
     "name": "stdout",
     "output_type": "stream",
     "text": [
      "Gray Amanda\n"
     ]
    }
   ],
   "source": [
    "print('{last} {first}'.format(first='Amanda', last='Gray'))"
   ]
  },
  {
   "cell_type": "markdown",
   "id": "ddf8224e-e81d-48ce-ba5d-df6fe5f1b599",
   "metadata": {},
   "source": [
    "# 8.3 Concatinating and Repeating Strings"
   ]
  },
  {
   "cell_type": "code",
   "execution_count": 44,
   "id": "433ac1f6-c088-43f2-8279-ed778fdb4582",
   "metadata": {},
   "outputs": [],
   "source": [
    "s1 = 'happy'"
   ]
  },
  {
   "cell_type": "code",
   "execution_count": 45,
   "id": "7d0a7474-466a-4259-854a-c193c79abcf4",
   "metadata": {},
   "outputs": [],
   "source": [
    "s2 = 'birthday'"
   ]
  },
  {
   "cell_type": "code",
   "execution_count": 46,
   "id": "b0e58965-bd30-4932-b9ae-fa37590d023a",
   "metadata": {},
   "outputs": [],
   "source": [
    "s1 += ' ' + s2"
   ]
  },
  {
   "cell_type": "code",
   "execution_count": 47,
   "id": "113ca153-4b1d-496a-bc61-ffc17a6ec978",
   "metadata": {},
   "outputs": [
    {
     "name": "stdout",
     "output_type": "stream",
     "text": [
      "happy birthday\n"
     ]
    }
   ],
   "source": [
    "print(s1)"
   ]
  },
  {
   "cell_type": "code",
   "execution_count": 48,
   "id": "bab1792d-4c68-4aab-8af8-7d93a12131e8",
   "metadata": {},
   "outputs": [],
   "source": [
    "symbol = '>'"
   ]
  },
  {
   "cell_type": "code",
   "execution_count": 49,
   "id": "5af48ea5-f207-4cd3-8212-de29efcdbd5b",
   "metadata": {},
   "outputs": [],
   "source": [
    "symbol *= 5"
   ]
  },
  {
   "cell_type": "code",
   "execution_count": 50,
   "id": "f15b3c5e-fffc-481d-86a4-d730e1177a40",
   "metadata": {},
   "outputs": [
    {
     "name": "stdout",
     "output_type": "stream",
     "text": [
      ">>>>>\n"
     ]
    }
   ],
   "source": [
    "print(symbol)"
   ]
  },
  {
   "cell_type": "markdown",
   "id": "196e39f0-92a0-4bab-8ac7-9e6f19fd4678",
   "metadata": {},
   "source": [
    "# 8.4 Stripping Whitespace from Strings - # Removing Leading and Trailing Whitespace"
   ]
  },
  {
   "cell_type": "code",
   "execution_count": 51,
   "id": "dd5c72d1-b9a8-4726-99a0-742bbb7d5532",
   "metadata": {},
   "outputs": [],
   "source": [
    "sentence = '\\t  \\n  This is a test string. \\t\\t \\n'"
   ]
  },
  {
   "cell_type": "code",
   "execution_count": 52,
   "id": "7e780b3f-0ca5-480f-b33b-5e50fa60b417",
   "metadata": {},
   "outputs": [
    {
     "name": "stdout",
     "output_type": "stream",
     "text": [
      "This is a test string.\n"
     ]
    }
   ],
   "source": [
    "print(sentence.strip())"
   ]
  },
  {
   "cell_type": "markdown",
   "id": "0f745a20-e2f0-4887-b4a0-6c77f047c7c2",
   "metadata": {},
   "source": [
    "# Removing Leading Whitespace"
   ]
  },
  {
   "cell_type": "code",
   "execution_count": 53,
   "id": "57718b0b-53c1-4b04-b114-8926332822f1",
   "metadata": {},
   "outputs": [
    {
     "name": "stdout",
     "output_type": "stream",
     "text": [
      "This is a test string. \t\t \n",
      "\n"
     ]
    }
   ],
   "source": [
    "print(sentence.lstrip())"
   ]
  },
  {
   "cell_type": "markdown",
   "id": "0f988399-6d73-4b03-bcac-e87cdcd81433",
   "metadata": {},
   "source": [
    "# Removing Trailing Whitespace"
   ]
  },
  {
   "cell_type": "code",
   "execution_count": 54,
   "id": "56b004b8-4778-4523-b1ea-961dfded73da",
   "metadata": {},
   "outputs": [
    {
     "name": "stdout",
     "output_type": "stream",
     "text": [
      "\t  \n",
      "  This is a test string.\n"
     ]
    }
   ],
   "source": [
    "print(sentence.rstrip())"
   ]
  },
  {
   "cell_type": "markdown",
   "id": "3b2038cb-b195-4b77-9c60-f558f4fd4121",
   "metadata": {},
   "source": [
    "# 8.5 Changing Character Case - # Capitalizing Only a String’s First Character"
   ]
  },
  {
   "cell_type": "code",
   "execution_count": 55,
   "id": "d8ec3aa8-f062-41eb-bafc-a5c6afec73f0",
   "metadata": {},
   "outputs": [
    {
     "name": "stdout",
     "output_type": "stream",
     "text": [
      "Happy birthday\n"
     ]
    }
   ],
   "source": [
    "print('happy birthday'.capitalize())"
   ]
  },
  {
   "cell_type": "markdown",
   "id": "6f0d26e0-3afa-4a21-b739-de3241b79258",
   "metadata": {},
   "source": [
    "# Capitalizing the First Character of Every Word in a String"
   ]
  },
  {
   "cell_type": "code",
   "execution_count": 57,
   "id": "3d2b7e1c-f6b0-42e2-904d-80d758cb0e85",
   "metadata": {},
   "outputs": [
    {
     "name": "stdout",
     "output_type": "stream",
     "text": [
      "Strings: A Deeper Look\n"
     ]
    }
   ],
   "source": [
    "print('strings: a deeper look'.title())"
   ]
  },
  {
   "cell_type": "markdown",
   "id": "dcf3e146-50f7-4439-8a59-48594b3326f2",
   "metadata": {},
   "source": [
    "# 8.6 Comparison Operators for Strings"
   ]
  },
  {
   "cell_type": "code",
   "execution_count": 58,
   "id": "baee4189-56d5-4b02-8bdc-fa2a88543fc4",
   "metadata": {},
   "outputs": [
    {
     "name": "stdout",
     "output_type": "stream",
     "text": [
      "A: 65; a: 97\n"
     ]
    }
   ],
   "source": [
    "print(f'A: {ord(\"A\")}; a: {ord(\"a\")}')"
   ]
  },
  {
   "cell_type": "code",
   "execution_count": 59,
   "id": "78335739-5289-4919-a360-dcbeeebff94a",
   "metadata": {},
   "outputs": [
    {
     "name": "stdout",
     "output_type": "stream",
     "text": [
      "False\n"
     ]
    }
   ],
   "source": [
    "print('Orange' == 'orange')"
   ]
  },
  {
   "cell_type": "code",
   "execution_count": 60,
   "id": "5d211ec5-e162-4e20-99ed-145057cba9f4",
   "metadata": {},
   "outputs": [
    {
     "name": "stdout",
     "output_type": "stream",
     "text": [
      "True\n"
     ]
    }
   ],
   "source": [
    "print('Orange' != 'orange')"
   ]
  },
  {
   "cell_type": "code",
   "execution_count": 61,
   "id": "f22f7642-633d-4e15-b097-a41ad529a106",
   "metadata": {},
   "outputs": [
    {
     "name": "stdout",
     "output_type": "stream",
     "text": [
      "True\n"
     ]
    }
   ],
   "source": [
    "print('Orange' < 'orange')"
   ]
  },
  {
   "cell_type": "code",
   "execution_count": 62,
   "id": "9a6f7f51-8670-42a7-820e-8af61d7c2d66",
   "metadata": {},
   "outputs": [
    {
     "name": "stdout",
     "output_type": "stream",
     "text": [
      "True\n"
     ]
    }
   ],
   "source": [
    "print('Orange' <= 'orange')"
   ]
  },
  {
   "cell_type": "code",
   "execution_count": 63,
   "id": "7e5aea41-7d2f-4e0f-a4ba-f16c1fb4574e",
   "metadata": {},
   "outputs": [
    {
     "name": "stdout",
     "output_type": "stream",
     "text": [
      "False\n"
     ]
    }
   ],
   "source": [
    "print('Orange' > 'orange')"
   ]
  },
  {
   "cell_type": "code",
   "execution_count": 64,
   "id": "95f40c88-7b96-4462-aa71-0841f0d8a9c1",
   "metadata": {},
   "outputs": [
    {
     "name": "stdout",
     "output_type": "stream",
     "text": [
      "False\n"
     ]
    }
   ],
   "source": [
    "print('Orange' >= 'orange')"
   ]
  },
  {
   "cell_type": "markdown",
   "id": "023ec2ae-9d24-4484-9205-a3365f4410bd",
   "metadata": {},
   "source": [
    "# 8.7 Searching for Substrings -  Counting Occurrences"
   ]
  },
  {
   "cell_type": "code",
   "execution_count": 65,
   "id": "2719c242-a998-4b01-83b1-59e05c218fd9",
   "metadata": {},
   "outputs": [],
   "source": [
    "sentence = 'to be or not to be that is the question'"
   ]
  },
  {
   "cell_type": "code",
   "execution_count": 66,
   "id": "dd1931b1-1389-46dd-94b7-1982e9d9b685",
   "metadata": {},
   "outputs": [
    {
     "name": "stdout",
     "output_type": "stream",
     "text": [
      "2\n"
     ]
    }
   ],
   "source": [
    "print(sentence.count('to'))"
   ]
  },
  {
   "cell_type": "code",
   "execution_count": 67,
   "id": "4611b2d3-4f11-4460-8119-bca9256a830e",
   "metadata": {},
   "outputs": [
    {
     "name": "stdout",
     "output_type": "stream",
     "text": [
      "1\n"
     ]
    }
   ],
   "source": [
    "print(sentence.count('to', 12))"
   ]
  },
  {
   "cell_type": "code",
   "execution_count": 68,
   "id": "6c208bb5-4587-43fd-93cd-542f4635e057",
   "metadata": {},
   "outputs": [
    {
     "name": "stdout",
     "output_type": "stream",
     "text": [
      "1\n"
     ]
    }
   ],
   "source": [
    "print(sentence.count('that', 12, 25))"
   ]
  },
  {
   "cell_type": "markdown",
   "id": "6e80b9bf-6477-4e74-b7e0-376691781957",
   "metadata": {},
   "source": [
    "# Locating a Substring in a String"
   ]
  },
  {
   "cell_type": "code",
   "execution_count": 69,
   "id": "1ff32530-cab7-40c4-8b69-7d444e9c7028",
   "metadata": {},
   "outputs": [
    {
     "name": "stdout",
     "output_type": "stream",
     "text": [
      "3\n"
     ]
    }
   ],
   "source": [
    "print(sentence.index('be'))"
   ]
  },
  {
   "cell_type": "code",
   "execution_count": 70,
   "id": "804bc078-ad06-42c3-896a-a89b93bdb856",
   "metadata": {},
   "outputs": [
    {
     "name": "stdout",
     "output_type": "stream",
     "text": [
      "16\n"
     ]
    }
   ],
   "source": [
    "print(sentence.rindex('be'))"
   ]
  },
  {
   "cell_type": "markdown",
   "id": "9c1b9b29-e33a-42fc-bfa3-df1d0edb4089",
   "metadata": {},
   "source": [
    "# Determining Whether a String Contains a Substring "
   ]
  },
  {
   "cell_type": "code",
   "execution_count": 71,
   "id": "572870b5-4637-4f15-827a-25ddc5958cde",
   "metadata": {},
   "outputs": [
    {
     "name": "stdout",
     "output_type": "stream",
     "text": [
      "True\n"
     ]
    }
   ],
   "source": [
    "print('that' in sentence)"
   ]
  },
  {
   "cell_type": "code",
   "execution_count": 72,
   "id": "55dd52dd-dd53-4830-bbc6-47efec43f961",
   "metadata": {},
   "outputs": [
    {
     "name": "stdout",
     "output_type": "stream",
     "text": [
      "False\n"
     ]
    }
   ],
   "source": [
    "print('THAT' in sentence)"
   ]
  },
  {
   "cell_type": "markdown",
   "id": "c844aa52-43bb-4fef-a3ff-4ed37c86273c",
   "metadata": {},
   "source": [
    "# Locating a Substring at the Beginning or End of a String"
   ]
  },
  {
   "cell_type": "code",
   "execution_count": 73,
   "id": "77863ad6-705f-4e2b-8cde-7bd4aa1efcd6",
   "metadata": {},
   "outputs": [
    {
     "name": "stdout",
     "output_type": "stream",
     "text": [
      "True\n"
     ]
    }
   ],
   "source": [
    "print(sentence.startswith('to'))"
   ]
  },
  {
   "cell_type": "code",
   "execution_count": 74,
   "id": "58d356f3-d9e1-4a74-b8eb-1fa7a95b9ea0",
   "metadata": {},
   "outputs": [
    {
     "name": "stdout",
     "output_type": "stream",
     "text": [
      "False\n"
     ]
    }
   ],
   "source": [
    "print(sentence.startswith('be'))"
   ]
  },
  {
   "cell_type": "code",
   "execution_count": 75,
   "id": "1fa4d40d-a6f8-4777-96c0-d961f03872fc",
   "metadata": {},
   "outputs": [
    {
     "name": "stdout",
     "output_type": "stream",
     "text": [
      "True\n"
     ]
    }
   ],
   "source": [
    "print(sentence.endswith('question'))"
   ]
  },
  {
   "cell_type": "code",
   "execution_count": 76,
   "id": "95ac20ed-920e-44b0-a20d-585b78f81286",
   "metadata": {},
   "outputs": [
    {
     "name": "stdout",
     "output_type": "stream",
     "text": [
      "False\n"
     ]
    }
   ],
   "source": [
    "print(sentence.endswith('quest'))"
   ]
  },
  {
   "cell_type": "markdown",
   "id": "9c20b1bf-3cb9-486b-9df8-1bc50f02df2e",
   "metadata": {},
   "source": [
    "# 8.8 Replacing Substrings"
   ]
  },
  {
   "cell_type": "code",
   "execution_count": 77,
   "id": "e193dfed-b84b-49e3-9af6-f4c5909a9473",
   "metadata": {},
   "outputs": [],
   "source": [
    "values = '1\\t2\\t3\\t4\\t5'"
   ]
  },
  {
   "cell_type": "code",
   "execution_count": 78,
   "id": "9f73c15b-1dfe-46df-a879-a1c4000cd42a",
   "metadata": {},
   "outputs": [
    {
     "name": "stdout",
     "output_type": "stream",
     "text": [
      "1,2,3,4,5\n"
     ]
    }
   ],
   "source": [
    "print(values.replace('\\t', ','))"
   ]
  },
  {
   "cell_type": "markdown",
   "id": "29466c82-23cd-42a2-99e1-f2b9fa85e574",
   "metadata": {},
   "source": [
    "# 8.9 Splitting and Joining Strings"
   ]
  },
  {
   "cell_type": "code",
   "execution_count": 79,
   "id": "32556e40-570b-4fa9-93d7-3bdc9681c746",
   "metadata": {},
   "outputs": [],
   "source": [
    "letters = 'A, B, C, D'"
   ]
  },
  {
   "cell_type": "code",
   "execution_count": 80,
   "id": "47c84d2e-d7e8-4f47-a36e-825e9381f4a0",
   "metadata": {},
   "outputs": [
    {
     "name": "stdout",
     "output_type": "stream",
     "text": [
      "['A', 'B', 'C', 'D']\n"
     ]
    }
   ],
   "source": [
    "print(letters.split(', '))"
   ]
  },
  {
   "cell_type": "code",
   "execution_count": 81,
   "id": "e1e6ae06-165b-44b5-bf10-8c1a7f385143",
   "metadata": {},
   "outputs": [
    {
     "name": "stdout",
     "output_type": "stream",
     "text": [
      "['A', 'B', 'C, D']\n"
     ]
    }
   ],
   "source": [
    "print(letters.split(', ', 2))"
   ]
  },
  {
   "cell_type": "markdown",
   "id": "1f7d3ddf-5ec9-4603-b336-7c6617e7b2c7",
   "metadata": {},
   "source": [
    "# Joining Strings"
   ]
  },
  {
   "cell_type": "code",
   "execution_count": 82,
   "id": "f5eba820-42cb-46b2-b839-109b126c56e1",
   "metadata": {},
   "outputs": [],
   "source": [
    "letters_list = ['A', 'B', 'C', 'D']"
   ]
  },
  {
   "cell_type": "code",
   "execution_count": 83,
   "id": "eb635181-f7dd-43a3-b3e7-d3f6093686d5",
   "metadata": {},
   "outputs": [
    {
     "name": "stdout",
     "output_type": "stream",
     "text": [
      "A,B,C,D\n"
     ]
    }
   ],
   "source": [
    "print(','.join(letters_list))"
   ]
  },
  {
   "cell_type": "code",
   "execution_count": 84,
   "id": "34c279d0-a1d2-4c19-9a8d-0fa1f7c2fa59",
   "metadata": {},
   "outputs": [
    {
     "name": "stdout",
     "output_type": "stream",
     "text": [
      "0,1,2,3,4,5,6,7,8,9\n"
     ]
    }
   ],
   "source": [
    "print(','.join([str(i) for i in range(10)]))"
   ]
  },
  {
   "cell_type": "markdown",
   "id": "1b31327c-29d9-4548-96ed-52bc7e1565b3",
   "metadata": {},
   "source": [
    "# String Methods partition and partition "
   ]
  },
  {
   "cell_type": "code",
   "execution_count": 86,
   "id": "0a83c357-8536-4858-92a7-1850d89540cb",
   "metadata": {},
   "outputs": [
    {
     "name": "stdout",
     "output_type": "stream",
     "text": [
      "('Amanda', ': ', '89, 97, 92')\n"
     ]
    }
   ],
   "source": [
    "print('Amanda: 89, 97, 92'.partition(': '))"
   ]
  },
  {
   "cell_type": "code",
   "execution_count": 87,
   "id": "e4ff9683-cd6a-4e1e-bc89-dc0159306a22",
   "metadata": {},
   "outputs": [],
   "source": [
    "url = 'http://www.deitel.com/books/PyCDS/table_of_contents.html'"
   ]
  },
  {
   "cell_type": "code",
   "execution_count": 88,
   "id": "4684aa54-4ace-4e57-a4f0-b34767bc3d9d",
   "metadata": {},
   "outputs": [],
   "source": [
    "rest_of_url, separator, document = url.rpartition('/')"
   ]
  },
  {
   "cell_type": "code",
   "execution_count": 89,
   "id": "5ec34ab1-b8b8-4ab7-a0bd-0efbe6dc2583",
   "metadata": {},
   "outputs": [
    {
     "name": "stdout",
     "output_type": "stream",
     "text": [
      "table_of_contents.html\n"
     ]
    }
   ],
   "source": [
    "print(document)"
   ]
  },
  {
   "cell_type": "code",
   "execution_count": 90,
   "id": "80958ddc-9016-4b8d-96b8-c9e8d5c0763c",
   "metadata": {},
   "outputs": [
    {
     "name": "stdout",
     "output_type": "stream",
     "text": [
      "http://www.deitel.com/books/PyCDS\n"
     ]
    }
   ],
   "source": [
    "print(rest_of_url)"
   ]
  },
  {
   "cell_type": "markdown",
   "id": "6c1b5a36-2fb1-43f3-bdd0-17114655eb91",
   "metadata": {},
   "source": [
    "# String Method splitlines "
   ]
  },
  {
   "cell_type": "code",
   "execution_count": 91,
   "id": "dfba3815-7c00-4644-b9c8-0fe9ad3ebac1",
   "metadata": {},
   "outputs": [],
   "source": [
    "lines = \"\"\"This is line 1\n",
    "This is line2\n",
    "This is line3\"\"\""
   ]
  },
  {
   "cell_type": "code",
   "execution_count": 92,
   "id": "59fc527c-f9b5-4c6f-b86b-89e3127a973f",
   "metadata": {},
   "outputs": [
    {
     "name": "stdout",
     "output_type": "stream",
     "text": [
      "This is line 1\n",
      "This is line2\n",
      "This is line3\n"
     ]
    }
   ],
   "source": [
    "print(lines)"
   ]
  },
  {
   "cell_type": "code",
   "execution_count": 93,
   "id": "2091ce0b-1ab1-4c40-9c3d-5df8335d1c4a",
   "metadata": {},
   "outputs": [
    {
     "name": "stdout",
     "output_type": "stream",
     "text": [
      "['This is line 1', 'This is line2', 'This is line3']\n"
     ]
    }
   ],
   "source": [
    "print(lines.splitlines())"
   ]
  },
  {
   "cell_type": "code",
   "execution_count": 94,
   "id": "8bee714e-63b9-43e7-af8a-a532bf6be8ad",
   "metadata": {},
   "outputs": [
    {
     "name": "stdout",
     "output_type": "stream",
     "text": [
      "['This is line 1\\n', 'This is line2\\n', 'This is line3']\n"
     ]
    }
   ],
   "source": [
    "print(lines.splitlines(True))"
   ]
  },
  {
   "cell_type": "markdown",
   "id": "bdfbbdcf-971a-4ac7-a387-abecf1139c70",
   "metadata": {},
   "source": [
    "# Characters and Character-Testing Methods"
   ]
  },
  {
   "cell_type": "code",
   "execution_count": 95,
   "id": "1890677f-11f1-4863-9fdd-3d55050f06a7",
   "metadata": {},
   "outputs": [
    {
     "name": "stdout",
     "output_type": "stream",
     "text": [
      "False\n"
     ]
    }
   ],
   "source": [
    "print('-27'.isdigit())"
   ]
  },
  {
   "cell_type": "code",
   "execution_count": 96,
   "id": "dab6fb48-2030-4bc6-a8b0-438f3674de58",
   "metadata": {},
   "outputs": [
    {
     "name": "stdout",
     "output_type": "stream",
     "text": [
      "True\n"
     ]
    }
   ],
   "source": [
    "print('27'.isdigit())"
   ]
  },
  {
   "cell_type": "code",
   "execution_count": 98,
   "id": "ecdaf4d1-b09f-4345-8584-02730aa93bbb",
   "metadata": {},
   "outputs": [
    {
     "name": "stdout",
     "output_type": "stream",
     "text": [
      "True\n"
     ]
    }
   ],
   "source": [
    "print('A9876'.isalnum())"
   ]
  },
  {
   "cell_type": "code",
   "execution_count": 99,
   "id": "67ec3a86-d489-44d3-b5d3-4b172456386e",
   "metadata": {},
   "outputs": [
    {
     "name": "stdout",
     "output_type": "stream",
     "text": [
      "False\n"
     ]
    }
   ],
   "source": [
    "print('123 Main Street'.isalnum())"
   ]
  },
  {
   "cell_type": "markdown",
   "id": "261f415e-925d-454b-8915-c39270d8ccef",
   "metadata": {},
   "source": [
    "# 8.11 Raw Strings "
   ]
  },
  {
   "cell_type": "code",
   "execution_count": 100,
   "id": "e6cf18a5-135d-4eaf-8095-aa93dc12e069",
   "metadata": {},
   "outputs": [],
   "source": [
    "file_path = 'C:\\\\MyFolder\\\\MySubFolder\\\\MyFile.txt'"
   ]
  },
  {
   "cell_type": "code",
   "execution_count": 101,
   "id": "c4f60ee1-eee4-4475-8740-bad9c0ec405b",
   "metadata": {},
   "outputs": [
    {
     "data": {
      "text/plain": [
       "'C:\\\\MyFolder\\\\MySubFolder\\\\MyFile.txt'"
      ]
     },
     "execution_count": 101,
     "metadata": {},
     "output_type": "execute_result"
    }
   ],
   "source": [
    "file_path"
   ]
  },
  {
   "cell_type": "code",
   "execution_count": 102,
   "id": "0fc54978-40bf-4186-a9cd-2f1f2ca2b548",
   "metadata": {},
   "outputs": [],
   "source": [
    "file_path = r'C:\\MyFolder\\MySubFolder\\MyFile.txt'"
   ]
  },
  {
   "cell_type": "code",
   "execution_count": 103,
   "id": "aae3a60a-d931-4fe7-8477-24ea29ffb84d",
   "metadata": {},
   "outputs": [
    {
     "name": "stdout",
     "output_type": "stream",
     "text": [
      "C:\\MyFolder\\MySubFolder\\MyFile.txt\n"
     ]
    }
   ],
   "source": [
    "print(file_path)"
   ]
  },
  {
   "cell_type": "markdown",
   "id": "a8188ef4-1261-4f54-9ce5-ba09d3f76e46",
   "metadata": {},
   "source": [
    "# 8.12 Introduction to Regular Expression - re module and function full match"
   ]
  },
  {
   "cell_type": "code",
   "execution_count": 104,
   "id": "3247fd6b-c34c-4c47-a8de-736903bf7d62",
   "metadata": {},
   "outputs": [],
   "source": [
    "import re"
   ]
  },
  {
   "cell_type": "markdown",
   "id": "17e2cbcc-01a1-4b0a-8094-df2384cfcd32",
   "metadata": {},
   "source": [
    "# Matching Literal Characters"
   ]
  },
  {
   "cell_type": "code",
   "execution_count": 105,
   "id": "e8fce9b8-ed41-4be2-852f-51801474db26",
   "metadata": {},
   "outputs": [
    {
     "name": "stdout",
     "output_type": "stream",
     "text": [
      "Match\n",
      "No match\n"
     ]
    }
   ],
   "source": [
    "pattern = '02215'\n",
    "print('Match' if re.fullmatch(pattern, '02215') else 'No match')\n",
    "print('Match' if re.fullmatch(pattern, '51220') else 'No match')"
   ]
  },
  {
   "cell_type": "markdown",
   "id": "cdd20271-ac2f-4cf8-82d0-4b2abb84e1ae",
   "metadata": {},
   "source": [
    "# Metacharacters, Character Classes and Quantifiers"
   ]
  },
  {
   "cell_type": "code",
   "execution_count": 106,
   "id": "8f9766c2-1317-49d2-bcdd-483772b2b413",
   "metadata": {},
   "outputs": [
    {
     "name": "stdout",
     "output_type": "stream",
     "text": [
      "Valid\n",
      "Invalid\n"
     ]
    }
   ],
   "source": [
    "print('Valid' if re.fullmatch(r'\\d{5}', '02215') else 'Invalid')\n",
    "print('Valid' if re.fullmatch(r'\\d{5}', '9876') else 'Invalid')"
   ]
  },
  {
   "cell_type": "markdown",
   "id": "0b6f991b-f39c-4474-aac7-cfb3c35e2d19",
   "metadata": {},
   "source": [
    "# Custom Character Classes"
   ]
  },
  {
   "cell_type": "code",
   "execution_count": 107,
   "id": "281cc48b-7ace-4b50-95d0-8ab77dc44e16",
   "metadata": {},
   "outputs": [
    {
     "name": "stdout",
     "output_type": "stream",
     "text": [
      "Valid\n",
      "Invalid\n",
      "Match\n",
      "No match\n",
      "Match\n",
      "No match\n"
     ]
    }
   ],
   "source": [
    "print('Valid' if re.fullmatch('[A-Z][a-z]*', 'Wally') else 'Invalid')\n",
    "print('Valid' if re.fullmatch('[A-Z][a-z]*', 'eva') else 'Invalid')\n",
    "print('Match' if re.fullmatch('[^a-z]', 'A') else 'No match')\n",
    "print('Match' if re.fullmatch('[^a-z]', 'a') else 'No match')\n",
    "print('Match' if re.fullmatch('[*+$]', '*') else 'No match')\n",
    "print('Match' if re.fullmatch('[*+$]', '!') else 'No match')"
   ]
  },
  {
   "cell_type": "markdown",
   "id": "8f09c406-617d-4d2c-9fff-b2ab9938378a",
   "metadata": {},
   "source": [
    "# * vs. + Quantifier"
   ]
  },
  {
   "cell_type": "code",
   "execution_count": 108,
   "id": "83e494a6-f133-4467-9b48-d4f879f80ac8",
   "metadata": {},
   "outputs": [
    {
     "name": "stdout",
     "output_type": "stream",
     "text": [
      "Valid\n",
      "Invalid\n"
     ]
    }
   ],
   "source": [
    "print('Valid' if re.fullmatch('[A-Z][a-z]+', 'Wally') else 'Invalid')\n",
    "print('Valid' if re.fullmatch('[A-Z][a-z]+', 'E') else 'Invalid')"
   ]
  },
  {
   "cell_type": "markdown",
   "id": "59eb7ca5-5e75-4aa6-8430-c713d00032b1",
   "metadata": {},
   "source": [
    "# Other Quantifiers"
   ]
  },
  {
   "cell_type": "code",
   "execution_count": 109,
   "id": "c45cf843-2e88-43cf-b3cd-cf105f8a2782",
   "metadata": {},
   "outputs": [
    {
     "name": "stdout",
     "output_type": "stream",
     "text": [
      "Match\n",
      "Match\n",
      "No match\n",
      "Match\n",
      "Match\n",
      "No match\n",
      "Match\n",
      "Match\n",
      "No match\n",
      "No match\n"
     ]
    }
   ],
   "source": [
    "print('Match' if re.fullmatch('labell?ed', 'labelled') else 'No match')\n",
    "print('Match' if re.fullmatch('labell?ed', 'labeled') else 'No match')\n",
    "print('Match' if re.fullmatch('labell?ed', 'labellled') else 'No match')\n",
    "print('Match' if re.fullmatch(r'\\d{3,}', '123') else 'No match')\n",
    "print('Match' if re.fullmatch(r'\\d{3,}', '1234567890') else 'No match')\n",
    "print('Match' if re.fullmatch(r'\\d{3,}', '12') else 'No match')\n",
    "print('Match' if re.fullmatch(r'\\d{3,6}', '123') else 'No match')\n",
    "print('Match' if re.fullmatch(r'\\d{3,6}', '123456') else 'No match')\n",
    "print('Match' if re.fullmatch(r'\\d{3,6}', '1234567') else 'No match')\n",
    "print('Match' if re.fullmatch(r'\\d{3,6}', '12') else 'No match')"
   ]
  },
  {
   "cell_type": "markdown",
   "id": "82f6b57f-c10f-48c8-ace4-46e33d91a05f",
   "metadata": {},
   "source": [
    "# Replacing Substrings and Splitting Strings - # Function sub—Replacing Patterns "
   ]
  },
  {
   "cell_type": "code",
   "execution_count": 110,
   "id": "ae70eb54-dbb6-4f50-a891-ba9ebe08a86d",
   "metadata": {},
   "outputs": [],
   "source": [
    "import re"
   ]
  },
  {
   "cell_type": "code",
   "execution_count": 112,
   "id": "29c9bda2-1b48-4b5d-aff2-f99997c29ff7",
   "metadata": {},
   "outputs": [
    {
     "name": "stdout",
     "output_type": "stream",
     "text": [
      "1, 2, 3, 4\n",
      "1, 2, 3\t4\n"
     ]
    }
   ],
   "source": [
    "print(re.sub(r'\\t', ', ', '1\\t2\\t3\\t4'))\n",
    "print(re.sub(r'\\t', ', ', '1\\t2\\t3\\t4', count=2))"
   ]
  },
  {
   "cell_type": "markdown",
   "id": "6c6a441d-3686-48c0-a045-4de95878f8ef",
   "metadata": {},
   "source": [
    "# Function split "
   ]
  },
  {
   "cell_type": "code",
   "execution_count": 113,
   "id": "fe98e58d-3cf8-42b0-9478-5b6c2b7387f6",
   "metadata": {},
   "outputs": [
    {
     "name": "stdout",
     "output_type": "stream",
     "text": [
      "['1', '2', '3', '4', '5', '6', '7', '8']\n",
      "['1', '2', '3', '4,    5,6,7,8']\n"
     ]
    }
   ],
   "source": [
    "print(re.split(r',\\s*', '1,  2,  3,4,    5,6,7,8'))\n",
    "print(re.split(r',\\s*', '1,  2,  3,4,    5,6,7,8', maxsplit=3))"
   ]
  },
  {
   "cell_type": "markdown",
   "id": "9e4a41a7-3e73-4287-90b4-f8c72164c993",
   "metadata": {},
   "source": [
    "# 8.12.3Other search Functions - Assessing Matches"
   ]
  },
  {
   "cell_type": "markdown",
   "id": "1dd4fefd-746d-4674-bc53-59ce1b359f8d",
   "metadata": {},
   "source": [
    "### Function search—Finding the First Match Anywhere in a String"
   ]
  },
  {
   "cell_type": "code",
   "execution_count": 115,
   "id": "05dfbfdd-a02f-4270-8d48-5436dad91e57",
   "metadata": {},
   "outputs": [],
   "source": [
    "import re"
   ]
  },
  {
   "cell_type": "code",
   "execution_count": 119,
   "id": "31468e6f-fe82-4574-8789-38f1f0cf061c",
   "metadata": {},
   "outputs": [
    {
     "name": "stdout",
     "output_type": "stream",
     "text": [
      "Python\n",
      "not found\n"
     ]
    }
   ],
   "source": [
    "result = re.search('Python', 'Python is fun')\n",
    "print(result.group() if result else 'not found')\n",
    "result2 = re.search('fun!', 'Python is fun')\n",
    "print(result2.group() if result2 else 'not found')"
   ]
  },
  {
   "cell_type": "markdown",
   "id": "c959a3dc-6d13-434c-be58-0d89c6b967a2",
   "metadata": {},
   "source": [
    "### Ignoring Case with the Optional flags Keyword Argument"
   ]
  },
  {
   "cell_type": "code",
   "execution_count": 120,
   "id": "f9f4524e-1a15-45e3-a3df-a288c9a0ec50",
   "metadata": {},
   "outputs": [
    {
     "name": "stdout",
     "output_type": "stream",
     "text": [
      "SAM\n"
     ]
    }
   ],
   "source": [
    "result3 = re.search('Sam', 'SAM WHITE', flags=re.IGNORECASE)\n",
    "print(result3.group() if result3 else 'not found')"
   ]
  },
  {
   "cell_type": "markdown",
   "id": "dee1cab3-c155-48c5-bd56-2c3dc7075a3b",
   "metadata": {},
   "source": [
    "### Metacharacters that Restrict Matches to the Beginning or End of a String"
   ]
  },
  {
   "cell_type": "code",
   "execution_count": 121,
   "id": "da7272f6-2d6f-464b-a7be-b0ead1a40f78",
   "metadata": {},
   "outputs": [
    {
     "name": "stdout",
     "output_type": "stream",
     "text": [
      "Python\n",
      "not found\n",
      "not found\n",
      "fun\n"
     ]
    }
   ],
   "source": [
    "result = re.search('^Python', 'Python is fun')\n",
    "print(result.group() if result else 'not found')\n",
    "result = re.search('^fun', 'Python is fun')\n",
    "print(result.group() if result else 'not found')\n",
    "result = re.search('Python$', 'Python is fun')\n",
    "print(result.group() if result else 'not found')\n",
    "result = re.search('fun$', 'Python is fun')\n",
    "print(result.group() if result else 'not found')"
   ]
  },
  {
   "cell_type": "markdown",
   "id": "6c8931dc-5859-4609-8a6d-b1877bc5ae56",
   "metadata": {},
   "source": [
    "### Function findall and finditer—Finding All Matches in a String"
   ]
  },
  {
   "cell_type": "code",
   "execution_count": 122,
   "id": "35bbd619-8e5c-4f14-b5ad-354d6bbb2657",
   "metadata": {},
   "outputs": [],
   "source": [
    "contact = 'Wally White, Home: 555-555-1234, Work: 555-555-4321'"
   ]
  },
  {
   "cell_type": "code",
   "execution_count": 123,
   "id": "fb7d96fe-3917-4a6b-b2d0-0c758b083dee",
   "metadata": {},
   "outputs": [
    {
     "name": "stdout",
     "output_type": "stream",
     "text": [
      "['555-555-1234', '555-555-4321']\n"
     ]
    }
   ],
   "source": [
    "print(re.findall(r'\\d{3}-\\d{3}-\\d{4}', contact))"
   ]
  },
  {
   "cell_type": "code",
   "execution_count": 124,
   "id": "19b3e811-7d2b-4135-af99-161d360fc027",
   "metadata": {},
   "outputs": [
    {
     "name": "stdout",
     "output_type": "stream",
     "text": [
      "555-555-1234\n",
      "555-555-4321\n"
     ]
    }
   ],
   "source": [
    "for phone in re.finditer(r'\\d{3}-\\d{3}-\\d{4}', contact):\n",
    "    print(phone.group())"
   ]
  },
  {
   "cell_type": "markdown",
   "id": "89ace811-bde0-4d9b-9039-12b08e0378e0",
   "metadata": {},
   "source": [
    "### Capturing Substrings in a Match"
   ]
  },
  {
   "cell_type": "code",
   "execution_count": 125,
   "id": "bb9d9212-c9fc-403b-aae7-736d99ea98ab",
   "metadata": {},
   "outputs": [],
   "source": [
    "text = 'Charlie Cyan, e-mail: demo1@deitel.com'\n",
    "pattern = r'([A-Z][a-z]+ [A-Z][a-z]+), e-mail: (\\w+@\\w+\\.\\w{3})'\n",
    "result = re.search(pattern, text)"
   ]
  },
  {
   "cell_type": "code",
   "execution_count": 127,
   "id": "97528a49-cae5-40a0-8fd0-8917b0ae691a",
   "metadata": {},
   "outputs": [
    {
     "name": "stdout",
     "output_type": "stream",
     "text": [
      "('Charlie Cyan', 'demo1@deitel.com')\n",
      "Charlie Cyan, e-mail: demo1@deitel.com\n",
      "Charlie Cyan\n",
      "demo1@deitel.com\n"
     ]
    }
   ],
   "source": [
    "print(result.groups())\n",
    "print(result.group())\n",
    "print(result.group(1))\n",
    "print(result.group(2))"
   ]
  },
  {
   "cell_type": "markdown",
   "id": "008748b6-f322-49ed-89b1-80b834da6954",
   "metadata": {},
   "source": [
    "# 8.13 Intro to Data Science: Pandas, Regular Expressions and Data Munging"
   ]
  },
  {
   "cell_type": "markdown",
   "id": "8dae1d5c-c8c2-4e83-a63c-5811a51b08e4",
   "metadata": {},
   "source": [
    "# Data Validation"
   ]
  },
  {
   "cell_type": "code",
   "execution_count": 128,
   "id": "78e1c041-cc58-49d8-95f0-89e52645ab51",
   "metadata": {},
   "outputs": [],
   "source": [
    "import pandas as pd"
   ]
  },
  {
   "cell_type": "code",
   "execution_count": 129,
   "id": "78108091-2ecb-4933-b983-dea4523972e3",
   "metadata": {},
   "outputs": [
    {
     "name": "stdout",
     "output_type": "stream",
     "text": [
      "Boston    02215\n",
      "Miami      3310\n",
      "dtype: object\n"
     ]
    }
   ],
   "source": [
    "zips = pd.Series({'Boston': '02215', 'Miami': '3310'})\n",
    "print(zips)"
   ]
  },
  {
   "cell_type": "code",
   "execution_count": 130,
   "id": "1a9aef57-43e0-4dbe-94d8-114bc00fc387",
   "metadata": {},
   "outputs": [
    {
     "name": "stdout",
     "output_type": "stream",
     "text": [
      "Boston     True\n",
      "Miami     False\n",
      "dtype: bool\n"
     ]
    }
   ],
   "source": [
    "print(zips.str.match(r'\\d{5}'))"
   ]
  },
  {
   "cell_type": "code",
   "execution_count": 131,
   "id": "9c8de60f-d8a3-4970-bb26-4024bc693848",
   "metadata": {},
   "outputs": [],
   "source": [
    "cities = pd.Series(['Boston, MA 02215', 'Miami, FL 33101'])"
   ]
  },
  {
   "cell_type": "code",
   "execution_count": 132,
   "id": "84425a69-29d1-442d-9eb9-d0e4c0b4242e",
   "metadata": {},
   "outputs": [
    {
     "name": "stdout",
     "output_type": "stream",
     "text": [
      "0    Boston, MA 02215\n",
      "1     Miami, FL 33101\n",
      "dtype: object\n"
     ]
    }
   ],
   "source": [
    "print(cities)"
   ]
  },
  {
   "cell_type": "code",
   "execution_count": 133,
   "id": "64bd26dd-4c79-4041-9f4c-f6012aa66986",
   "metadata": {},
   "outputs": [
    {
     "name": "stdout",
     "output_type": "stream",
     "text": [
      "0    True\n",
      "1    True\n",
      "dtype: bool\n",
      "0    False\n",
      "1    False\n",
      "dtype: bool\n"
     ]
    }
   ],
   "source": [
    "print(cities.str.contains(r' [A-Z]{2} '))\n",
    "print(cities.str.match(r' [A-Z]{2} '))"
   ]
  },
  {
   "cell_type": "markdown",
   "id": "8cc27363-0d5e-41ce-bbea-5d6021af6986",
   "metadata": {},
   "source": [
    "# Reformatting Your Data"
   ]
  },
  {
   "cell_type": "code",
   "execution_count": 134,
   "id": "433c1fe0-6681-4d4b-a873-a69e928d0f12",
   "metadata": {},
   "outputs": [],
   "source": [
    "contacts = [['Mike Green', 'demo1@deitel.com', '5555555555'],\n",
    "            ['Sue Brown', 'demo2@deitel.com', '5555551234']]\n",
    "\n",
    "contactsdf = pd.DataFrame(contacts, \n",
    "                          columns=['Name', 'Email', 'Phone'])"
   ]
  },
  {
   "cell_type": "code",
   "execution_count": 135,
   "id": "c3db6eff-bdbb-49ab-8add-685a3110e731",
   "metadata": {},
   "outputs": [
    {
     "name": "stdout",
     "output_type": "stream",
     "text": [
      "         Name             Email       Phone\n",
      "0  Mike Green  demo1@deitel.com  5555555555\n",
      "1   Sue Brown  demo2@deitel.com  5555551234\n"
     ]
    }
   ],
   "source": [
    "print(contactsdf)"
   ]
  },
  {
   "cell_type": "code",
   "execution_count": null,
   "id": "dc5271c9-7f4f-4bab-b142-af354f2e81e0",
   "metadata": {},
   "outputs": [],
   "source": [
    "import re"
   ]
  },
  {
   "cell_type": "code",
   "execution_count": 136,
   "id": "aa151586-14ed-4997-87fd-31dc5101b9e3",
   "metadata": {},
   "outputs": [],
   "source": [
    "def get_formatted_phone(value):\n",
    "    result = re.fullmatch(r'(\\d{3})(\\d{3})(\\d{4})', value)\n",
    "    return '-'.join(result.groups()) if result else value"
   ]
  },
  {
   "cell_type": "code",
   "execution_count": 137,
   "id": "dd022b94-98ff-4262-ab2e-a583f76c4217",
   "metadata": {},
   "outputs": [],
   "source": [
    "formatted_phone = contactsdf['Phone'].map(get_formatted_phone)"
   ]
  },
  {
   "cell_type": "code",
   "execution_count": 138,
   "id": "9acf77c8-d123-4692-8a46-ade9bc333f38",
   "metadata": {},
   "outputs": [
    {
     "name": "stdout",
     "output_type": "stream",
     "text": [
      "0    555-555-5555\n",
      "1    555-555-1234\n",
      "Name: Phone, dtype: object\n"
     ]
    }
   ],
   "source": [
    "print(formatted_phone)"
   ]
  },
  {
   "cell_type": "code",
   "execution_count": 139,
   "id": "65eb724d-a304-4220-b80d-bef2385bad1a",
   "metadata": {},
   "outputs": [],
   "source": [
    "contactsdf['Phone'] = formatted_phone"
   ]
  },
  {
   "cell_type": "code",
   "execution_count": 140,
   "id": "d1acefae-4e57-499d-995a-d73d380ccc5e",
   "metadata": {},
   "outputs": [
    {
     "name": "stdout",
     "output_type": "stream",
     "text": [
      "         Name             Email         Phone\n",
      "0  Mike Green  demo1@deitel.com  555-555-5555\n",
      "1   Sue Brown  demo2@deitel.com  555-555-1234\n"
     ]
    }
   ],
   "source": [
    "print(contactsdf)"
   ]
  },
  {
   "cell_type": "markdown",
   "id": "c9627fcb-7979-44f5-ba10-2d2df3021ed4",
   "metadata": {},
   "source": [
    "# Project 5 Part 2"
   ]
  },
  {
   "cell_type": "code",
   "execution_count": 1,
   "id": "0ea49244-31a3-44b3-9454-af15bbc9687c",
   "metadata": {},
   "outputs": [],
   "source": [
    "import pandas as pd"
   ]
  },
  {
   "cell_type": "code",
   "execution_count": 3,
   "id": "27c3c728-1333-4de3-9410-6bb33cbaa8b7",
   "metadata": {},
   "outputs": [],
   "source": [
    "grades_dict = {'Wally': [87, 96, 70], 'Eva': [100, 87, 90],\n",
    "               'Sam': [94, 77, 90], 'Katie': [100, 81, 82], \n",
    "               'Bob': [93, 65, 85]}"
   ]
  },
  {
   "cell_type": "code",
   "execution_count": 5,
   "id": "f8e81c01-7a65-4494-877f-0f825538c41e",
   "metadata": {},
   "outputs": [],
   "source": [
    "grades = pd.DataFrame(grades_dict)"
   ]
  },
  {
   "cell_type": "code",
   "execution_count": 6,
   "id": "be73aa2a-d9c0-4be2-92e1-ac93d66c32ff",
   "metadata": {},
   "outputs": [
    {
     "name": "stdout",
     "output_type": "stream",
     "text": [
      "   Wally  Eva  Sam  Katie  Bob\n",
      "0     87  100   94    100   93\n",
      "1     96   87   77     81   65\n",
      "2     70   90   90     82   85\n"
     ]
    }
   ],
   "source": [
    "print(grades)"
   ]
  },
  {
   "cell_type": "markdown",
   "id": "8b36c25b-221e-4095-bcf1-efffc85e2068",
   "metadata": {},
   "source": [
    "# Applying Custom Index"
   ]
  },
  {
   "cell_type": "code",
   "execution_count": 9,
   "id": "f1497bf1-5900-444e-8fe9-a84ccb097c07",
   "metadata": {},
   "outputs": [
    {
     "data": {
      "text/html": [
       "<div>\n",
       "<style scoped>\n",
       "    .dataframe tbody tr th:only-of-type {\n",
       "        vertical-align: middle;\n",
       "    }\n",
       "\n",
       "    .dataframe tbody tr th {\n",
       "        vertical-align: top;\n",
       "    }\n",
       "\n",
       "    .dataframe thead th {\n",
       "        text-align: right;\n",
       "    }\n",
       "</style>\n",
       "<table border=\"1\" class=\"dataframe\">\n",
       "  <thead>\n",
       "    <tr style=\"text-align: right;\">\n",
       "      <th></th>\n",
       "      <th>Wally</th>\n",
       "      <th>Eva</th>\n",
       "      <th>Sam</th>\n",
       "      <th>Katie</th>\n",
       "      <th>Bob</th>\n",
       "    </tr>\n",
       "  </thead>\n",
       "  <tbody>\n",
       "    <tr>\n",
       "      <th>Test1</th>\n",
       "      <td>87</td>\n",
       "      <td>100</td>\n",
       "      <td>94</td>\n",
       "      <td>100</td>\n",
       "      <td>93</td>\n",
       "    </tr>\n",
       "    <tr>\n",
       "      <th>Test2</th>\n",
       "      <td>96</td>\n",
       "      <td>87</td>\n",
       "      <td>77</td>\n",
       "      <td>81</td>\n",
       "      <td>65</td>\n",
       "    </tr>\n",
       "    <tr>\n",
       "      <th>Test3</th>\n",
       "      <td>70</td>\n",
       "      <td>90</td>\n",
       "      <td>90</td>\n",
       "      <td>82</td>\n",
       "      <td>85</td>\n",
       "    </tr>\n",
       "  </tbody>\n",
       "</table>\n",
       "</div>"
      ],
      "text/plain": [
       "       Wally  Eva  Sam  Katie  Bob\n",
       "Test1     87  100   94    100   93\n",
       "Test2     96   87   77     81   65\n",
       "Test3     70   90   90     82   85"
      ]
     },
     "execution_count": 9,
     "metadata": {},
     "output_type": "execute_result"
    }
   ],
   "source": [
    "pd.DataFrame(grades_dict, index=['Test1', 'Test2', 'Test3'])"
   ]
  },
  {
   "cell_type": "code",
   "execution_count": 8,
   "id": "01fc164e-421c-41ff-bd6f-235f18d7d1d9",
   "metadata": {},
   "outputs": [],
   "source": [
    "grades.index = ['Test1', 'Test2', 'Test3']"
   ]
  },
  {
   "cell_type": "code",
   "execution_count": 10,
   "id": "08ad88b5-0e9d-4114-b2c7-0945e8e4d5c7",
   "metadata": {},
   "outputs": [
    {
     "name": "stdout",
     "output_type": "stream",
     "text": [
      "       Wally  Eva  Sam  Katie  Bob\n",
      "Test1     87  100   94    100   93\n",
      "Test2     96   87   77     81   65\n",
      "Test3     70   90   90     82   85\n"
     ]
    }
   ],
   "source": [
    "print(grades)"
   ]
  },
  {
   "cell_type": "code",
   "execution_count": 13,
   "id": "b043d3f5-55f4-4ddc-bd43-7944ea902cc9",
   "metadata": {},
   "outputs": [
    {
     "name": "stdout",
     "output_type": "stream",
     "text": [
      "Test1    100\n",
      "Test2     87\n",
      "Test3     90\n",
      "Name: Eva, dtype: int64\n"
     ]
    }
   ],
   "source": [
    "print(grades['Eva'])"
   ]
  },
  {
   "cell_type": "code",
   "execution_count": 14,
   "id": "32b1a5b8-70fc-4f51-8452-e94429f161da",
   "metadata": {},
   "outputs": [
    {
     "name": "stdout",
     "output_type": "stream",
     "text": [
      "Test1    94\n",
      "Test2    77\n",
      "Test3    90\n",
      "Name: Sam, dtype: int64\n"
     ]
    }
   ],
   "source": [
    "print(grades.Sam)"
   ]
  },
  {
   "cell_type": "code",
   "execution_count": 15,
   "id": "cf272230-3473-4686-8460-15eecd4fef41",
   "metadata": {},
   "outputs": [
    {
     "name": "stdout",
     "output_type": "stream",
     "text": [
      "Wally     87\n",
      "Eva      100\n",
      "Sam       94\n",
      "Katie    100\n",
      "Bob       93\n",
      "Name: Test1, dtype: int64\n"
     ]
    }
   ],
   "source": [
    "print(grades.loc['Test1'])"
   ]
  },
  {
   "cell_type": "code",
   "execution_count": 141,
   "id": "f2a30224-182e-4b15-a6d7-1ab805da58e1",
   "metadata": {},
   "outputs": [
    {
     "name": "stdout",
     "output_type": "stream",
     "text": [
      "Wally    96\n",
      "Eva      87\n",
      "Sam      77\n",
      "Katie    81\n",
      "Bob      65\n",
      "Name: Test2, dtype: int64\n"
     ]
    }
   ],
   "source": [
    "print(grades.iloc[1])"
   ]
  },
  {
   "cell_type": "code",
   "execution_count": 143,
   "id": "f43a4d32-9249-44e5-b3a8-02ed8ceea809",
   "metadata": {},
   "outputs": [
    {
     "name": "stdout",
     "output_type": "stream",
     "text": [
      "87\n"
     ]
    }
   ],
   "source": [
    "print(grades.at['Test2', 'Eva'])"
   ]
  },
  {
   "cell_type": "code",
   "execution_count": 142,
   "id": "2ceeafae-bb1f-4e47-888a-3d9570b1175c",
   "metadata": {},
   "outputs": [
    {
     "name": "stdout",
     "output_type": "stream",
     "text": [
      "70\n"
     ]
    }
   ],
   "source": [
    "print(grades.iat[2,0])"
   ]
  },
  {
   "cell_type": "code",
   "execution_count": 144,
   "id": "1e3c0b33-aab4-4e37-8267-f797db47ade8",
   "metadata": {},
   "outputs": [
    {
     "name": "stdout",
     "output_type": "stream",
     "text": [
      "           Wally         Eva        Sam       Katie        Bob\n",
      "count   3.000000    3.000000   3.000000    3.000000   3.000000\n",
      "mean   84.333333   92.333333  87.000000   87.666667  81.000000\n",
      "std    13.203535    6.806859   8.888194   10.692677  14.422205\n",
      "min    70.000000   87.000000  77.000000   81.000000  65.000000\n",
      "25%    78.500000   88.500000  83.500000   81.500000  75.000000\n",
      "50%    87.000000   90.000000  90.000000   82.000000  85.000000\n",
      "75%    91.500000   95.000000  92.000000   91.000000  89.000000\n",
      "max    96.000000  100.000000  94.000000  100.000000  93.000000\n"
     ]
    }
   ],
   "source": [
    "print(grades.describe())"
   ]
  },
  {
   "cell_type": "code",
   "execution_count": 148,
   "id": "d0d6272b-eb3e-4150-ae88-f3045944abea",
   "metadata": {},
   "outputs": [],
   "source": [
    "import pandas as pd"
   ]
  },
  {
   "cell_type": "code",
   "execution_count": 152,
   "id": "98860d15-828f-4639-a94d-90916c0b4e51",
   "metadata": {},
   "outputs": [],
   "source": [
    "pd.set_option(\"display.precision\", 2)"
   ]
  },
  {
   "cell_type": "code",
   "execution_count": 153,
   "id": "72ee1e5e-3afb-46f8-a836-820cbb01e0b9",
   "metadata": {},
   "outputs": [
    {
     "name": "stdout",
     "output_type": "stream",
     "text": [
      "       Wally     Eva    Sam   Katie    Bob\n",
      "count   3.00    3.00   3.00    3.00   3.00\n",
      "mean   84.33   92.33  87.00   87.67  81.00\n",
      "std    13.20    6.81   8.89   10.69  14.42\n",
      "min    70.00   87.00  77.00   81.00  65.00\n",
      "25%    78.50   88.50  83.50   81.50  75.00\n",
      "50%    87.00   90.00  90.00   82.00  85.00\n",
      "75%    91.50   95.00  92.00   91.00  89.00\n",
      "max    96.00  100.00  94.00  100.00  93.00\n"
     ]
    }
   ],
   "source": [
    "print(grades.describe())"
   ]
  },
  {
   "cell_type": "code",
   "execution_count": 154,
   "id": "34470798-3440-49d8-a006-986dc7fd0bc1",
   "metadata": {},
   "outputs": [
    {
     "name": "stdout",
     "output_type": "stream",
     "text": [
      "Wally    84.33\n",
      "Eva      92.33\n",
      "Sam      87.00\n",
      "Katie    87.67\n",
      "Bob      81.00\n",
      "dtype: float64\n"
     ]
    }
   ],
   "source": [
    "print(grades.mean())"
   ]
  },
  {
   "cell_type": "code",
   "execution_count": 155,
   "id": "7c18c5d0-b133-4d0e-9292-9e05e769816c",
   "metadata": {},
   "outputs": [
    {
     "name": "stdout",
     "output_type": "stream",
     "text": [
      "       Wally  Eva  Sam  Katie  Bob\n",
      "Test3     70   90   90     82   85\n",
      "Test2     96   87   77     81   65\n",
      "Test1     87  100   94    100   93\n"
     ]
    }
   ],
   "source": [
    "print(grades.sort_index(ascending=False))"
   ]
  },
  {
   "cell_type": "code",
   "execution_count": 156,
   "id": "ffa7ffba-ccac-4d73-9b1c-5e2ca2542e89",
   "metadata": {},
   "outputs": [
    {
     "name": "stdout",
     "output_type": "stream",
     "text": [
      "       Bob  Eva  Katie  Sam  Wally\n",
      "Test1   93  100    100   94     87\n",
      "Test2   65   87     81   77     96\n",
      "Test3   85   90     82   90     70\n"
     ]
    }
   ],
   "source": [
    "print(grades.sort_index(axis=1))"
   ]
  },
  {
   "cell_type": "code",
   "execution_count": 157,
   "id": "568a17de-3f4f-44a9-bbe9-d73310f22d35",
   "metadata": {},
   "outputs": [
    {
     "name": "stdout",
     "output_type": "stream",
     "text": [
      "Garrett Kopp\n"
     ]
    }
   ],
   "source": [
    "print('Garrett Kopp')"
   ]
  },
  {
   "cell_type": "code",
   "execution_count": null,
   "id": "f610cc7d-3aef-429c-a076-381bb805e40e",
   "metadata": {},
   "outputs": [],
   "source": []
  }
 ],
 "metadata": {
  "kernelspec": {
   "display_name": "Python 3 (ipykernel)",
   "language": "python",
   "name": "python3"
  },
  "language_info": {
   "codemirror_mode": {
    "name": "ipython",
    "version": 3
   },
   "file_extension": ".py",
   "mimetype": "text/x-python",
   "name": "python",
   "nbconvert_exporter": "python",
   "pygments_lexer": "ipython3",
   "version": "3.9.12"
  }
 },
 "nbformat": 4,
 "nbformat_minor": 5
}
